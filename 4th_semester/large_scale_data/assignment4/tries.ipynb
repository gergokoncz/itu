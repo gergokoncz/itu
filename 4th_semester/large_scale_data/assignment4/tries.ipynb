{
 "cells": [
  {
   "cell_type": "code",
   "execution_count": 4,
   "metadata": {},
   "outputs": [
    {
     "output_type": "stream",
     "name": "stdout",
     "text": "0.9629396261899098\n"
    }
   ],
   "source": [
    "from influxdb import InfluxDBClient\n",
    "import pandas as pd\n",
    "import numpy as np\n",
    "from sklearn.base import BaseEstimator, TransformerMixin\n",
    "from datetime import datetime, timedelta\n",
    "from sklearn.pipeline import Pipeline\n",
    "from sklearn.linear_model import LinearRegression, Ridge, Lasso\n",
    "from sklearn.ensemble import RandomForestRegressor\n",
    "from sklearn.metrics import mean_absolute_error\n",
    "\n",
    "\n",
    "class DateTransformer(BaseEstimator, TransformerMixin):\n",
    "    def __init__(self):\n",
    "        None\n",
    "    \n",
    "    def fit(self, X, y = None):\n",
    "        return self\n",
    "\n",
    "    def transform(self, X, y = None):\n",
    "        X = X.reset_index()\n",
    "        X['datetime'] = X['time'].apply(lambda x: datetime.strptime(x[:19], '%Y-%m-%dT%H:%M:%S'))\n",
    "        X['year'] = X['datetime'].apply(lambda x: x.year)\n",
    "        X['month'] = X['datetime'].apply(lambda x: x.month)\n",
    "        X['day'] = X['datetime'].apply(lambda x: x.day)\n",
    "        X['hour'] = X['datetime'].apply(lambda x: x.hour)\n",
    "        X['minute'] = X['datetime'].apply(lambda x: x.minute)\n",
    "        X['day_of_week'] = X['datetime'].apply(lambda x: x.dayofweek)\n",
    "        y = X['Total']\n",
    "        return X[['year', 'month', 'day', 'hour', 'minute', 'day_of_week', 'Total']], y\n",
    "\n",
    "class Shifter(BaseEstimator, TransformerMixin):\n",
    "    def __init__(self):\n",
    "        None\n",
    "    \n",
    "    def fit(self, X, y = None):\n",
    "        return self\n",
    "\n",
    "    def transform(self, X, y = None, hours = 3):\n",
    "        X = X[0]\n",
    "        for i in range(hours):\n",
    "            colname = f\"{i+1}hourback\"\n",
    "            X[colname] = X['Total'].shift(60 * (-i-1))\n",
    "        X = X.dropna()\n",
    "        y = X['Total']\n",
    "        X = X.drop(columns = ['Total'], axis = 1)\n",
    "        return X, y\n",
    "\n",
    "\n",
    "if __name__ == '__main__':\n",
    "    client = InfluxDBClient(host = 'influxus.itu.dk', port = 8086, username = 'lsda', password = 'icanonlyread')\n",
    "    client.switch_database('orkney')\n",
    "\n",
    "    results = client.query('SELECT * FROM \"Generation\" where time > now() - w ORDER BY time')\n",
    "    points = results.get_points()\n",
    "    values = results.raw['series'][0][\"values\"]\n",
    "    columns = results.raw['series'][0][\"columns\"]\n",
    "    generation_df = pd.DataFrame(values, columns = columns).set_index(\"time\")\n",
    "\n",
    "    preparation_pipeline = Pipeline([\n",
    "        ('date_worker', DateTransformer()),\n",
    "        ('shifter', Shifter())\n",
    "    ])\n",
    "\n",
    "    processed_data = preparation_pipeline.fit_transform(generation_df)\n",
    "\n",
    "    dim1, dim2 = processed_data[0].shape\n",
    "\n",
    "    X = processed_data[0]\n",
    "    y = processed_data[1]\n",
    "\n",
    "    lreg_model = Lasso().fit(processed_data[0].iloc[:int(0.8*dim1)], processed_data[1][:int(0.8 * dim1)])\n",
    "    print(lreg_model.score(processed_data[0].loc[int(0.8 * dim1):], processed_data[1][int(0.8 * dim1):]))"
   ]
  },
  {
   "cell_type": "code",
   "execution_count": 3,
   "metadata": {},
   "outputs": [],
   "source": [
    "from sklearn.model_selection import TimeSeriesSplit\n",
    "\n",
    "\n",
    "tscv = TimeSeriesSplit()"
   ]
  },
  {
   "cell_type": "code",
   "execution_count": 10,
   "metadata": {},
   "outputs": [],
   "source": [
    "# models\n",
    "from sklearn.svm import SVR\n",
    "\n",
    "lr_model = LinearRegression()\n",
    "lasso_model = Lasso()\n",
    "ridge_model = Ridge()\n",
    "rf_model = RandomForestRegressor()\n",
    "svm_model = SVR()"
   ]
  },
  {
   "cell_type": "code",
   "execution_count": 14,
   "metadata": {},
   "outputs": [],
   "source": [
    "def cv_model(model, X, y):\n",
    "    for train_index, test_index in tscv.split(X):\n",
    "        model.fit(X.iloc[train_index], y[train_index])\n",
    "        print(f\"R2 score:  {model.score(X.iloc[test_index], y[test_index])}\")\n",
    "        predictions = model.predict(X.iloc[test_index])\n",
    "        print(f\"MAE: {mean_absolute_error(predictions, y[test_index])}\")"
   ]
  },
  {
   "cell_type": "code",
   "execution_count": 15,
   "metadata": {},
   "outputs": [
    {
     "output_type": "stream",
     "name": "stdout",
     "text": "R2 score:  0.8604324292323158\nMAE: 2.715149728553486\nR2 score:  0.9214147519755347\nMAE: 2.7492130656904066\nR2 score:  0.8402926007421173\nMAE: 3.272478335783512\nR2 score:  0.9437317595183369\nMAE: 2.148732121852667\nR2 score:  0.910001174955952\nMAE: 1.686147468020713\n"
    }
   ],
   "source": [
    "for model in [lr_model, lasso_model, ridge_model, rf_model, svm_model]:\n",
    "    print(\"\\n\\n\")\n",
    "    cv_model(model, X, y)"
   ]
  },
  {
   "cell_type": "code",
   "execution_count": null,
   "metadata": {},
   "outputs": [],
   "source": []
  }
 ],
 "metadata": {
  "language_info": {
   "codemirror_mode": {
    "name": "ipython",
    "version": 3
   },
   "file_extension": ".py",
   "mimetype": "text/x-python",
   "name": "python",
   "nbconvert_exporter": "python",
   "pygments_lexer": "ipython3",
   "version": "3.6.9-final"
  },
  "orig_nbformat": 2,
  "kernelspec": {
   "name": "python36964bit712752d7e36845ed8574cd5341214b97",
   "display_name": "Python 3.6.9 64-bit"
  }
 },
 "nbformat": 4,
 "nbformat_minor": 2
}