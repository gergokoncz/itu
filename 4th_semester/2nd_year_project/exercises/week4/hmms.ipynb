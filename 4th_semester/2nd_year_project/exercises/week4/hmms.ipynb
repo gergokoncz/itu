{
 "cells": [
  {
   "cell_type": "markdown",
   "metadata": {},
   "source": [
    "# Week 4 - Part II: Sequence Prediction with HMMs"
   ]
  },
  {
   "cell_type": "markdown",
   "metadata": {},
   "source": [
    "In this exercise you will implement the Viterbi algorithm for decoding in sequence tagging. The parameter estimation for the parameters of the model (emission and transition) is provided, as they are similar to parameter estimation with smoothing that you have seen in the Naive Bayes lecture."
   ]
  },
  {
   "cell_type": "markdown",
   "metadata": {},
   "source": [
    "### Hidden Markov Models (HMM) for sequence tagging\n",
    "\n",
    "In this part of the exercise you are going to implement a HMM POS tagger.\n",
    "\n",
    "First, lets read in the data. We provide some helper functions for it (see `myutils.py`).\n"
   ]
  },
  {
   "cell_type": "code",
   "execution_count": 1,
   "metadata": {},
   "outputs": [],
   "source": [
    "import codecs\n",
    "import numpy as np\n",
    "import myutils\n",
    "from collections import defaultdict\n",
    "\n",
    "# load data\n",
    "train_data = myutils.read_conll_file(\"data/da_ddt-ud-train.conllu\")\n",
    "dev_data = myutils.read_conll_file(\"data/da_ddt-ud-dev.conllu\")"
   ]
  },
  {
   "cell_type": "code",
   "execution_count": 2,
   "metadata": {},
   "outputs": [
    {
     "name": "stdout",
     "output_type": "stream",
     "text": "RON', 'VERB', 'ADP', 'DET', 'NOUN', 'PUNCT'])\n(['Kinesisk', 'nytår', 'er', 'fejret', 'med', 'frimærker', 'af', 'Hongkong', 'og', 'Sydkorea', 'siden', '1967', ',', 'at', 'Republic', 'of', 'China', 'på', 'Taiwan', 'siden', '1969', ',', 'af', 'Japan', 'siden', '1976', ',', 'af', 'Macau', 'siden', '1984', 'og', 'af', 'Kommunist-China', 'siden', '1992', '.'], ['ADJ', 'NOUN', 'AUX', 'VERB', 'ADP', 'NOUN', 'ADP', 'PROPN', 'CCONJ', 'PROPN', 'ADP', 'NUM', 'PUNCT', 'SCONJ', 'PROPN', 'X', 'PROPN', 'ADP', 'PROPN', 'ADP', 'NUM', 'PUNCT', 'ADP', 'PROPN', 'ADP', 'NUM', 'PUNCT', 'ADP', 'PROPN', 'ADP', 'NUM', 'CCONJ', 'ADP', 'PROPN', 'ADP', 'NUM', 'PUNCT'])\n(['Værelset', 'skrumpede', '.'], ['NOUN', 'VERB', 'PUNCT'])\n(['Her', 'er', 'hun', 'dansk', 'koordinator', 'for', 'et', 'kontaktnet', 'af', 'skoler', 'over', 'hele', 'verden', '.'], ['ADV', 'AUX', 'PRON', 'ADJ', 'NOUN', 'ADP', 'DET', 'NOUN', 'ADP', 'NOUN', 'ADP', 'ADJ', 'NOUN', 'PUNCT'])\n(['Sidstnævnte', 'er', 'af', 'ikke', 'umiddelbart', 'indlysende', 'årsager', 'på', 'tilbud', '.'], ['ADJ', 'VERB', 'ADP', 'ADV', 'ADV', 'ADJ', 'NOUN', 'ADP', 'NOUN', 'PUNCT'])\n(['Her', 'er', 'de', 'små', 'borde', 'dækket', 'med', 'navneskilte', 'og', 'små', 'flasker', 'vin', 'med', 'proppen', 'i', 'fra', 'i', 'går', '.'], ['ADV', 'AUX', 'DET', 'ADJ', 'NOUN', 'VERB', 'ADP', 'NOUN', 'CCONJ', 'ADJ', 'NOUN', 'NOUN', 'ADP', 'NOUN', 'ADV', 'ADP', 'ADP', 'NOUN', 'PUNCT'])\n(['Hun', 'tørrede', 'sine', 'øjne', ',', 'inden', 'hun', 'låste', 'sig', 'ind', 'i', 'lejligheden', '.'], ['PRON', 'VERB', 'DET', 'NOUN', 'PUNCT', 'SCONJ', 'PRON', 'VERB', 'PRON', 'ADV', 'ADP', 'NOUN', 'PUNCT'])\n(['Hvilke', 'af', 'aftenens', 'sange', ',', 'Nat', 'King', 'Cole', 'oprindeligt', 'lancerede', ',', 'kan', 'diskuteres', 'på', 'samme', 'måde', 'som', 'en', 'del', 'af', 'de', 'faktuelle', 'oplysninger', ',', 'Natalie', 'Cole', 'kom', 'med', 'i', 'den', 'anledning', '.'], ['PRON', 'ADP', 'NOUN', 'NOUN', 'PUNCT', 'PROPN', 'PROPN', 'PROPN', 'ADV', 'VERB', 'PUNCT', 'AUX', 'VERB', 'ADP', 'ADJ', 'NOUN', 'ADP', 'DET', 'NOUN', 'ADP', 'DET', 'ADJ', 'NOUN', 'PUNCT', 'PROPN', 'PROPN', 'VERB', 'ADV', 'ADP', 'DET', 'NOUN', 'PUNCT'])\n(['Men', 'målmandsskiftet', 'ændrede', 'handlingsforløbet', 'totalt', '.'], ['CCONJ', 'NOUN', 'VERB', 'NOUN', 'ADV', 'PUNCT'])\n(['Fordi', ':', 'den', 'danske', 'folkeafstemning', 'er', 'juridisk', 'bindende', ',', 'og', 'Danmark', 'er', 'derfor', 'ude', 'af', 'stand', 'til', 'at', 'ratificere', 'Maastricht-Traktaten', '.'], ['SCONJ', 'PUNCT', 'DET', 'ADJ', 'NOUN', 'VERB', 'ADV', 'VERB', 'PUNCT', 'CCONJ', 'PROPN', 'AUX', 'ADV', 'ADV', 'ADP', 'NOUN', 'ADP', 'PART', 'VERB', 'NOUN', 'PUNCT'])\n(['Det', 'kan', 'meget', 'vel', 'være', ',', 'men', 'ikke', 'desto', 'mindre', 'er', 'det', 'alt', 'for', 'overset', ',', 'at', 'Nils', 'Lofgren', 'solo', 'laver', 'nogle', 'glimrende', 'rockplader', '.'], ['PRON', 'AUX', 'ADV', 'ADV', 'VERB', 'PUNCT', 'CCONJ', 'ADV', 'ADV', 'ADJ', 'AUX', 'PRON', 'ADV', 'ADP', 'VERB', 'PUNCT', 'SCONJ', 'PROPN', 'PROPN', 'ADV', 'VERB', 'DET', 'ADJ', 'NOUN', 'PUNCT'])\n(['KØBENHAVN', ':', 'En', 'dukkert', 'i', 'Furesø', 'kan', 'igen', 'anbefales', ',', 'efter', 'at', 'læger', 'kommuner', 'og', 'amter', 'har', 'konstateret', ',', 'at', 'der', 'ikke', 'længere', 'er', 'sundhedsfarlige', 'alger', '.'], ['PROPN', 'PUNCT', 'DET', 'NOUN', 'ADP', 'PROPN', 'AUX', 'ADV', 'VERB', 'PUNCT', 'ADP', 'SCONJ', 'NOUN', 'NOUN', 'CCONJ', 'NOUN', 'AUX', 'VERB', 'PUNCT', 'SCONJ', 'ADV', 'ADV', 'ADV', 'VERB', 'ADJ', 'NOUN', 'PUNCT'])\n(['Vi', 'trænger', 'til', 'inspiration', ',', 'min', 'dejlige', 'pige', 'og', 'jeg', '.'], ['PRON', 'VERB', 'ADP', 'NOUN', 'PUNCT', 'DET', 'ADJ', 'NOUN', 'CCONJ', 'PRON', 'PUNCT'])\n(['Medlemsstaterne', 'udpeger', 'den', 'eller', 'de', 'kompetente', 'myndigheder', 'med', 'ansvar', 'for', 'gennemførelsen', 'af', 'kravene', 'i', 'dette', 'direktiv', 'og', 'dets', 'bilag', '.'], ['NOUN', 'VERB', 'PRON', 'CCONJ', 'DET', 'ADJ', 'NOUN', 'ADP', 'NOUN', 'ADP', 'NOUN', 'ADP', 'NOUN', 'ADP', 'DET', 'NOUN', 'CCONJ', 'DET', 'NOUN', 'PUNCT'])\n(['PRIS', ':', '219.996', 'kr.', '.'], ['NOUN', 'PUNCT', 'NUM', 'NOUN', 'PUNCT'])\n(['\"', 'For', 'dem', ',', 'der', 'har', 'læst', 'H.', 'C.', 'Andersen', ',', 'forsvinder', 'historierne', 'aldrig', '.'], ['PUNCT', 'ADP', 'PRON', 'PUNCT', 'PRON', 'AUX', 'VERB', 'PROPN', 'PROPN', 'PROPN', 'PUNCT', 'VERB', 'NOUN', 'ADV', 'PUNCT'])\n(['Samtidig', 'har', 'denne', 'magt', 'været', 'demoraliserende', '.'], ['ADV', 'AUX', 'DET', 'NOUN', 'VERB', 'VERB', 'PUNCT'])\n(['Det', 'normale', 'i', 'erhvervslivet', 'i', 'den', 'slags', 'situationer', 'er', ',', 'når', 'en', 'ny', 'chef', 'tiltræder', ',', 'så', 'ryger', 'den', 'gamle', 'ud', '-', 'uanset', 'om', 'hans', 'kontrakt', 'varer', 'længere', '.'], ['DET', 'ADJ', 'ADP', 'NOUN', 'ADP', 'DET', 'NOUN', 'NOUN', 'VERB', 'PUNCT', 'SCONJ', 'DET', 'ADJ', 'NOUN', 'VERB', 'PUNCT', 'ADV', 'VERB', 'DET', 'ADJ', 'ADV', 'PUNCT', 'ADP', 'SCONJ', 'DET', 'NOUN', 'VERB', 'ADV', 'PUNCT'])\n(['Det', 'gør', 'han', 'og', 'skriver', 'i', 'avisen', 'om', 'den', 'patriotiske', 'nødvendighed', 'af', 'fædrelandets', 'forsvar', '.'], ['PRON', 'VERB', 'PRON', 'CCONJ', 'VERB', 'ADP', 'NOUN', 'ADP', 'DET', 'ADJ', 'NOUN', 'ADP', 'NOUN', 'NOUN', 'PUNCT'])\n(['Det', 'er', 'yderligere', 'ved', 'at', 'være', 'et', 'problem', 'i', 'Zagreb-området', ',', 'at', 'de', 'store', 'hoteller', ',', 'der', 'huser', 'tusinder', 'af', 'flygtninge', ',', 'er', 'ved', 'at', 'gøre', 'klar', 'til', 'turistsæsonen', ',', 'som', 'skal', 'redde', 'stumperne', 'af', 'den', 'kroatiske', 'nationaløkonomi', '.'], ['PRON', 'VERB', 'ADV', 'ADP', 'PART', 'AUX', 'DET', 'NOUN', 'ADP', 'NOUN', 'PUNCT', 'SCONJ', 'DET', 'ADJ', 'NOUN', 'PUNCT', 'PRON', 'VERB', 'NOUN', 'ADP', 'NOUN', 'PUNCT', 'VERB', 'ADP', 'PART', 'VERB', 'ADJ', 'ADP', 'NOUN', 'PUNCT', 'PRON', 'AUX', 'VERB', 'NOUN', 'ADP', 'DET', 'ADJ', 'NOUN', 'PUNCT'])\n(['Ridning', 'og', 'svømning', '-', 'under', 'kontrol', 'af', 'fysioterapeuter', '-', 'viser', 'sig', 'i', 'mange', 'tilfælde', 'også', 'at', 'have', 'en', 'god', 'virkning', 'på', 'scleroseramte', '.'], ['NOUN', 'CCONJ', 'NOUN', 'PUNCT', 'ADP', 'NOUN', 'ADP', 'NOUN', 'PUNCT', 'VERB', 'PRON', 'ADP', 'ADJ', 'NOUN', 'ADV', 'PART', 'VERB', 'DET', 'ADJ', 'NOUN', 'ADP', 'ADJ', 'PUNCT'])\n(['Nu', 'er', 'den', 'dækket', 'til', 'af', 'kommunen', 'med', 'flere', 'hundrede', 'kilo', 'sand'], ['ADV', 'AUX', 'PRON', 'VERB', 'ADV', 'ADP', 'NOUN', 'ADP', 'ADJ', 'NOUN', 'NOUN', 'NOUN'])\n(['Unibanks', 'bestyrelsesformand', 'Hugo', 'Schrøder', 'udtrykker', 'det', 'således', 'over', 'for', 'B.T.', ':', '\"', 'I', 'de', 'seneste', 'fem', 'meddelelser', 'til', 'offentligheden', 'er', 'vi', 'hver', 'gang', 'kommet', 'ud', 'med', 'tal', ',', 'som', 'efterfølgende', 'har', 'vist', 'sig', 'at', 'være', 'for', 'optimistiske', '.'], ['PROPN', 'NOUN', 'PROPN', 'PROPN', 'VERB', 'PRON', 'ADV', 'ADV', 'ADP', 'PROPN', 'PUNCT', 'PUNCT', 'ADP', 'DET', 'ADJ', 'NUM', 'NOUN', 'ADP', 'NOUN', 'AUX', 'PRON', 'PRON', 'NOUN', 'VERB', 'ADV', 'ADP', 'NOUN', 'PUNCT', 'PRON', 'ADV', 'AUX', 'VERB', 'PRON', 'PART', 'AUX', 'ADV', 'ADJ', 'PUNCT'])\n(['Det', 'samme', 'er', 'det', 'grimme', 'sår', 'på', 'overarmen', 'og', 'skrammerne', 'over', 'det', 'meste', 'af', 'kroppen', '.'], ['DET', 'ADJ', 'AUX', 'DET', 'ADJ', 'NOUN', 'ADP', 'NOUN', 'CCONJ', 'NOUN', 'ADP', 'DET', 'ADJ', 'ADP', 'NOUN', 'PUNCT'])\n(['Hun', 'er', 'dog', 'overbevist', 'om', ',', 'at', 'ja-partierne', 'har', 'en', 'fair', 'chance', 'for', 'at', 'klare', 'opgaven', ',', 'så', 'et', 'flertal', 'af', 'danskerne', 'stemmer', 'ja', 'til', 'særaftalen', 'til', 'foråret', '.'], ['PRON', 'AUX', 'ADV', 'VERB', 'ADP', 'PUNCT', 'SCONJ', 'NOUN', 'VERB', 'DET', 'ADJ', 'NOUN', 'ADP', 'PART', 'VERB', 'NOUN', 'PUNCT', 'SCONJ', 'DET', 'NOUN', 'ADP', 'NOUN', 'VERB', 'NOUN', 'ADP', 'NOUN', 'ADP', 'NOUN', 'PUNCT'])\n(['Et', 'kraftigt', 'slag', 'eller', 'spark', 'kan', 'være', 'så', 'smertefuldt', ',', 'at', 'man', 'besvimer', '.'], ['DET', 'ADJ', 'NOUN', 'CCONJ', 'NOUN', 'AUX', 'AUX', 'ADV', 'ADJ', 'PUNCT', 'SCONJ', 'PRON', 'VERB', 'PUNCT'])\n(['Den', 'har', 'ingen', 'forbindelse', 'med', 'årsagen', 'til', 'flystyrtet', '.'], ['PRON', 'VERB', 'DET', 'NOUN', 'ADP', 'NOUN', 'ADP', 'NOUN', 'PUNCT'])\n(['Nogle', 'af', 'dem', 'lækker', ',', 'og', 'der', 'er', 'enkelte', 'steder', 'flydt', 'en', 'klistret', 'masse', 'ud', 'på', 'jorden', '.'], ['PRON', 'ADP', 'PRON', 'VERB', 'PUNCT', 'CCONJ', 'ADV', 'AUX', 'ADJ', 'NOUN', 'VERB', 'DET', 'ADJ', 'NOUN', 'ADV', 'ADP', 'NOUN', 'PUNCT'])\n(['Så', 'kan', 'vi', 'også', 'bedre', 'få', 'fortalt', 'noget', 'mere', 'om', 'den', 'efterhånden', '.'], ['ADV', 'AUX', 'PRON', 'ADV', 'ADV', 'VERB', 'VERB', 'DET', 'ADJ', 'ADP', 'PRON', 'ADV', 'PUNCT'])\n(['Og', 'Hans', 'musiksmag', 'er', 'de', 'gode', ',', 'gamle', 'som', 'Elvis', 'og', 'Tom', 'Jones', '.'], ['CCONJ', 'DET', 'NOUN', 'AUX', 'DET', 'ADJ', 'PUNCT', 'ADJ', 'ADP', 'PROPN', 'CCONJ', 'PROPN', 'PROPN', 'PUNCT'])\n(['Det', 'er', 'den', 'valgmatematik', ',', 'der', 'siger', ',', 'at', 'man', 'godt', 'kan', 'blive', 'amerikansk', 'præsident', 'uden', 'et', 'flertal', '.'], ['PRON', 'AUX', 'DET', 'NOUN', 'PUNCT', 'PRON', 'VERB', 'PUNCT', 'SCONJ', 'PRON', 'ADV', 'AUX', 'AUX', 'ADJ', 'NOUN', 'ADP', 'DET', 'NOUN', 'PUNCT'])\n(['Han', 'har', 'både', 'været', 'værnepligtig', 'og', 'medlem', 'af', 'Hjemmeværnet', '.'], ['PRON', 'AUX', 'ADV', 'AUX', 'ADJ', 'CCONJ', 'NOUN', 'ADP', 'NOUN', 'PUNCT'])\n(['De', 'sidste', 'par', 'nætter', 'har', 'nazisterne', 'brugt', 'parkerede', 'Trabanter', 'til', 'at', 'barrikadere', 'gaderne', '.'], ['DET', 'ADJ', 'NOUN', 'NOUN', 'AUX', 'NOUN', 'VERB', 'VERB', 'NOUN', 'ADP', 'PART', 'VERB', 'NOUN', 'PUNCT'])\n(['En', 'række', 'traditionelle', 'antagelser', 'bliver', 'bekræftet', ':', 'Det', 'er', 'f.eks.', 'tydeligt', ',', 'hvordan', 'urinblæren', 'i', 'visse', 'stillinger', 'fungerer', 'som', 'effektiv', 'stødpude', 'mellem', 'penis', 'og', 'foster', '.'], ['DET', 'NOUN', 'ADJ', 'NOUN', 'VERB', 'VERB', 'PUNCT', 'PRON', 'AUX', 'ADV', 'ADJ', 'PUNCT', 'ADV', 'NOUN', 'ADP', 'ADJ', 'NOUN', 'VERB', 'ADP', 'ADJ', 'NOUN', 'ADP', 'NOUN', 'CCONJ', 'NOUN', 'PUNCT'])\n(['Efter', 'afsløringen', 'af', 'giftaffaldet', 'har', 'Nigeria', 'tilbageholdt', 'to', 'skibe', ',', 'foretaget', 'adskillige', 'anholdelser', 'og', 'truet', 'med', 'at', 'henrette', 'de', 'skyldige', '.'], ['ADP', 'NOUN', 'ADP', 'NOUN', 'AUX', 'PROPN', 'VERB', 'NUM', 'NOUN', 'PUNCT', 'VERB', 'ADJ', 'NOUN', 'CCONJ', 'VERB', 'ADP', 'PART', 'VERB', 'DET', 'ADJ', 'PUNCT'])\n(['Hele', 'tiden', 'får', 'de', 'cirka', '15', 'fremmødte', 'piger', '-', 'og', 'Deres', 'udsendte', '-', 'at', 'vide', ',', 'at', 'vi', 'kan', 'finde', 'det', 'demonstrerede', 'afbilledet', '\"', 'på', 'side', '...', 'i', 'jeres', 'katalog', '\"', '.'], ['ADJ', 'NOUN', 'VERB', 'DET', 'ADV', 'NUM', 'ADJ', 'NOUN', 'PUNCT', 'CCONJ', 'PRON', 'VERB', 'PUNCT', 'PART', 'VERB', 'PUNCT', 'SCONJ', 'PRON', 'AUX', 'VERB', 'PRON', 'VERB', 'X', 'PUNCT', 'ADP', 'NOUN', 'PUNCT', 'ADP', 'DET', 'NOUN', 'PUNCT', 'PUNCT'])\n(['På', 'det', 'tidspunkt', 'synes', 'jeg', ',', 'det', 'var', 'på', 'tide', 'at', 'tjene', 'nogle', 'penge', 'i', 'stedet', 'for', 'bare', 'at', 'modtage', 'dagpenge', ',', 'så', 'min', 'gæld', 'kunne', 'blive', 'reduceret', '.'], ['ADP', 'DET', 'NOUN', 'VERB', 'PRON', 'PUNCT', 'PRON', 'AUX', 'ADP', 'NOUN', 'PART', 'VERB', 'DET', 'NOUN', 'ADP', 'NOUN', 'ADP', 'ADV', 'PART', 'VERB', 'NOUN', 'PUNCT', 'SCONJ', 'DET', 'NOUN', 'AUX', 'AUX', 'VERB', 'PUNCT'])\n(['De', 'to', 'unge', 'mænd', 'er', 'født', 'og', 'opvokset', 'i', 'Atlanta', 'og', 'mødtes', ',', 'da', 'de', 'begyndte', 'i', '1.', 'klasse', '.'], ['DET', 'NUM', 'ADJ', 'NOUN', 'AUX', 'VERB', 'CCONJ', 'ADJ', 'ADP', 'PROPN', 'CCONJ', 'VERB', 'PUNCT', 'SCONJ', 'PRON', 'VERB', 'ADP', 'ADJ', 'NOUN', 'PUNCT'])\n(['Men', 'det', 'vigtigste', 'ved', 'hans', 'eventyr', 'er', ',', 'at', 'de', 'bliver', 'fortalt', 'og', 'læst', ',', '\"', 'siger', 'Victor', 'Borge', ',', 'som', 'netop', 'er', 'i', 'gang', 'med', 'at', 'indtale', 'flere', 'af', 'forfatterens', 'eventyr', 'til', 'et', 'stort', 'TV-program', ',', 'der', 'skal', 'sendes', 'i', 'USA', '.'], ['CCONJ', 'DET', 'ADJ', 'ADP', 'DET', 'NOUN', 'VERB', 'PUNCT', 'SCONJ', 'PRON', 'AUX', 'VERB', 'CCONJ', 'VERB', 'PUNCT', 'PUNCT', 'VERB', 'PROPN', 'PROPN', 'PUNCT', 'ADP', 'ADV', 'AUX', 'ADP', 'NOUN', 'ADP', 'PART', 'VERB', 'ADJ', 'ADP', 'NOUN', 'NOUN', 'ADP', 'DET', 'ADJ', 'NOUN', 'PUNCT', 'PRON', 'AUX', 'VERB', 'ADP', 'PROPN', 'PUNCT'])\n(['(', 'Vi', 'citerer', 'ikke', 'navngivne', 'personer', 'i', 'nogen', 'af', 'citaterne', '.'], ['PUNCT', 'PRON', 'VERB', 'ADV', 'ADJ', 'NOUN', 'ADP', 'PRON', 'ADP', 'NOUN', 'PUNCT'])\n(['På', 'olieraffinaderier', 'destilleres', 'råolie', 'i', 'såkaldte', 'destillationsanlæg', '.'], ['ADP', 'NOUN', 'VERB', 'NOUN', 'ADP', 'ADJ', 'NOUN', 'PUNCT'])\n(['Tænkende', 'forskere', 'har', 'naturligvis', 'til', 'alle', 'tider', 'spekuleret', 'over', 'disse', 'emner', '.'], ['VERB', 'NOUN', 'AUX', 'ADV', 'ADP', 'ADJ', 'NOUN', 'VERB', 'ADP', 'DET', 'NOUN', 'PUNCT'])\n(['Nogle', 'dør', 'af', 'infektionen', ',', '\"', 'siger', 'Knud', 'Gaarslev', '.'], ['PRON', 'VERB', 'ADP', 'NOUN', 'PUNCT', 'PUNCT', 'VERB', 'PROPN', 'PROPN', 'PUNCT'])\n(['Genkendelsen', ',', 'den', 'flygtige', 'blikkontakt', 'havde', 'været', 'en', 'indbildning', '.'], ['NOUN', 'PUNCT', 'DET', 'ADJ', 'NOUN', 'AUX', 'AUX', 'DET', 'NOUN', 'PUNCT'])\n(['Dyrt', 'klædte', 'familier', 'Jönsson', 'og', \"Carlsson'er\", 'i', 'hobetal', 'slentrer', 'ind', 'og', 'ud', 'af', 'de', 'mange', 'luksuriøse', 'butikker', 'i', 'det', 'centrale', 'Stockholms', 'Norrmalm-kvarter', '.'], ['ADV', 'VERB', 'NOUN', 'PROPN', 'CCONJ', 'NOUN', 'ADP', 'NOUN', 'VERB', 'ADV', 'CCONJ', 'ADV', 'ADP', 'DET', 'ADJ', 'ADJ', 'NOUN', 'ADP', 'DET', 'ADJ', 'PROPN', 'NOUN', 'PUNCT'])\n(['Den', 'kvindelige', 'bilist', 'kunne', 'ikke', 'umiddelbart', 'give', 'politiet', 'nogen', 'præcis', 'forklaring', 'på', ',', 'hvordan', 'hun', 'kunne', 'overse', 'den', 'cyklende', 'pige', 'på', 'det', 'helt', 'lige', 'stykke', 'vej', '.'], ['DET', 'ADJ', 'NOUN', 'AUX', 'ADV', 'ADV', 'VERB', 'NOUN', 'DET', 'ADJ', 'NOUN', 'ADP', 'PUNCT', 'ADV', 'PRON', 'AUX', 'VERB', 'DET', 'VERB', 'NOUN', 'ADP', 'DET', 'ADV', 'ADJ', 'NOUN', 'NOUN', 'PUNCT'])\n(['Inden', 'for', 'landbruget', ',', 'maskinstationsområdet', ',', 'skovbruget', ',', 'gartneribruget', ',', 'planteskolerne', ',', 'anlægsgartnerne', 'm.v.', 'er', 'der', 'udfoldet', 'store', 'bestræbelser', 'på', 'at', 'opnå', 'en', 'mere', 'jævn', 'anvendelse', 'af', 'arbejdskraft', ',', 'men', 'forhold', 'uden', 'for', 'arbejdsgivernes', 'indflydelse', 'sætter', 'grænser', 'for', 'yderligere', 'forbedringer', '.'], ['ADV', 'ADP', 'NOUN', 'PUNCT', 'NOUN', 'PUNCT', 'NOUN', 'PUNCT', 'NOUN', 'PUNCT', 'NOUN', 'PUNCT', 'NOUN', 'ADV', 'AUX', 'ADV', 'VERB', 'ADJ', 'NOUN', 'ADP', 'PART', 'VERB', 'DET', 'ADV', 'ADJ', 'NOUN', 'ADP', 'NOUN', 'PUNCT', 'CCONJ', 'NOUN', 'ADV', 'ADP', 'NOUN', 'NOUN', 'VERB', 'NOUN', 'ADP', 'ADJ', 'NOUN', 'PUNCT'])\n(['To', 'fynske', 'skoler', 'lukkes'], ['NUM', 'ADJ', 'NOUN', 'VERB'])\n(['En', 'husmor', 'er', 'en', 'hjemme-kunstner', ',', 'hjemme-økolog', 'eller', 'ubetalt', 'arbejdskraft', '.'], ['DET', 'NOUN', 'AUX', 'DET', 'NOUN', 'PUNCT', 'NOUN', 'CCONJ', 'ADJ', 'NOUN', 'PUNCT'])\n(['Lars', 'svarede', 'ikke', '.'], ['PROPN', 'VERB', 'ADV', 'PUNCT'])\n(['Kunst', 'og', 'kunstnerisk', 'skaben', 'handler', 'om', 'modsætninger', 'og', 'deres', 'frugtbare', 'interaktion', '.'], ['NOUN', 'CCONJ', 'ADJ', 'VERB', 'VERB', 'ADP', 'NOUN', 'CCONJ', 'DET', 'ADJ', 'NOUN', 'PUNCT'])\n(['Og', 'så', 'blev', 'det', '22-20', 'til', 'polakken', '.'], ['CCONJ', 'ADV', 'AUX', 'PRON', 'NUM', 'ADP', 'NOUN', 'PUNCT'])\n(['Processen', 'er', 'præget', 'af', 'glæde', 'og', 'det', 'modsatte', '.'], ['NOUN', 'AUX', 'VERB', 'ADP', 'NOUN', 'CCONJ', 'DET', 'ADJ', 'PUNCT'])\n(['Jeg', 'tror', 'godt', ',', 'du', 'forstår', ',', 'hvad', 'jeg', 'mener', ',', 'ikke', '?', '\"'], ['PRON', 'VERB', 'ADV', 'PUNCT', 'PRON', 'VERB', 'PUNCT', 'PRON', 'PRON', 'VERB', 'PUNCT', 'ADV', 'PUNCT', 'PUNCT'])\n(['Nerverne', 'sidder', 'i', 'forvejen', 'uden', 'på', 'skjorten', ')', '.'], ['NOUN', 'VERB', 'ADP', 'NOUN', 'ADV', 'ADP', 'NOUN', 'PUNCT', 'PUNCT'])\n(['Der', 'stod', 'ingen', 'steder', 'i', 'Mai', 'Buchs', 'eksamenspapirer', ',', 'at', 'hun', 'skulle', 'havne', 'på', 'et', 'teater', '.'], ['ADV', 'VERB', 'DET', 'NOUN', 'ADP', 'PROPN', 'PROPN', 'NOUN', 'PUNCT', 'SCONJ', 'PRON', 'AUX', 'VERB', 'ADP', 'DET', 'NOUN', 'PUNCT'])\n(['Året', '1716-1717', 'var', 'et', 'kæmpe', 'år', 'for', 'vivaldi', 'her', 'udkom', 'der', 'hele', '3', 'opuser', '.'], ['NOUN', 'NUM', 'AUX', 'DET', 'ADJ', 'NOUN', 'ADP', 'X', 'ADV', 'VERB', 'ADV', 'ADJ', 'NUM', 'NOUN', 'PUNCT'])\n(['Følelser', ',', 'som', 'han', 'ikke', 'kan', 'beherske', ',', 'og', 'som', 'derfor', 'driver', 'ham', 'ud', 'i', 'en', 'situation', ',', 'hvor', 'han', 'optræder', 'som', 'forræder', ',', 'angiver', ',', 'stikker', '.'], ['NOUN', 'PUNCT', 'PRON', 'PRON', 'ADV', 'AUX', 'VERB', 'PUNCT', 'CCONJ', 'ADP', 'ADV', 'VERB', 'PRON', 'ADV', 'ADP', 'DET', 'NOUN', 'PUNCT', 'ADV', 'PRON', 'VERB', 'ADP', 'NOUN', 'PUNCT', 'NOUN', 'PUNCT', 'NOUN', 'PUNCT'])\n(['Og', 'det', 'er', 'svært', 'at', 'få', 'en', 'uddannelse', ',', '\"', 'siger', 'de', '.'], ['CCONJ', 'PRON', 'AUX', 'ADJ', 'PART', 'VERB', 'DET', 'NOUN', 'PUNCT', 'PUNCT', 'VERB', 'PRON', 'PUNCT'])\n(['Dengang', 'hed', 'det', 'godtnok', '\"', 'building', '\"', 'i', 'stedet', 'for', '\"', 'stadium', '\"', '.'], ['ADV', 'VERB', 'PRON', 'X', 'PUNCT', 'X', 'PUNCT', 'ADP', 'NOUN', 'ADP', 'PUNCT', 'X', 'PUNCT', 'PUNCT'])\n(['Maja', 'ryster', 'på', 'hovedet', '.'], ['PROPN', 'VERB', 'ADP', 'NOUN', 'PUNCT'])\n(['For', 'eksempel', 'lød', 'et', 'af', 'spørgsmålene', ',', 'om', 'man', 'kan', 'spise', 'giftige', 'svampe', '.'], ['ADP', 'NOUN', 'VERB', 'PRON', 'ADP', 'NOUN', 'PUNCT', 'SCONJ', 'PRON', 'AUX', 'VERB', 'ADJ', 'NOUN', 'PUNCT'])\n(['Dog', 'kun', 'til', 'den', 'første', 'egentlige', 'uddannelse', '.'], ['ADV', 'ADV', 'ADP', 'DET', 'ADJ', 'ADJ', 'NOUN', 'PUNCT'])\n(['To', 'publikumsmæssige', 'magneter', ',', 'som', '-', 'hver', 'på', 'sin', 'måde', '-', 'tegner', 'det', 'moderne', 'Paris', '.'], ['NUM', 'ADJ', 'NOUN', 'PUNCT', 'PRON', 'PUNCT', 'PRON', 'ADP', 'DET', 'NOUN', 'PUNCT', 'VERB', 'DET', 'ADJ', 'PROPN', 'PUNCT'])\n(['Men', 'jeg', 'tror', ',', 'at', 'de', 'fleste', 'danskeres', 'hjerte', 'banker', 'for', 'et', 'nordisk', 'samarbejde', ',', 'mens', 'deres', 'hjerne', 'støtter', 'EF-samarbejdet', '.'], ['CCONJ', 'PRON', 'VERB', 'PUNCT', 'SCONJ', 'DET', 'ADJ', 'NOUN', 'NOUN', 'VERB', 'ADP', 'DET', 'ADJ', 'NOUN', 'PUNCT', 'SCONJ', 'DET', 'NOUN', 'VERB', 'NOUN', 'PUNCT'])\n(['Således', 'er', 'vaginas', 'vægge', '-', 'undtagen', 'forvæggen', '-', 'helt', 'passive', 'under', 'samlejet', '.'], ['ADV', 'AUX', 'NOUN', 'NOUN', 'PUNCT', 'ADP', 'NOUN', 'PUNCT', 'ADV', 'ADJ', 'ADP', 'NOUN', 'PUNCT'])\n(['Det', 'er', 'den', 'forhørte', 'der', 'sidder', 'og', 'styrer', 'forhøret', ',', 'tænker', 'han', '.'], ['PRON', 'AUX', 'PRON', 'VERB', 'ADV', 'VERB', 'CCONJ', 'VERB', 'NOUN', 'PUNCT', 'VERB', 'PRON', 'PUNCT'])\n(['Deltager', 'en', 'elev', 'i', 'undervisning', ',', 'opgaver', 'og', 'prøver', ',', 'er', 'man', 'aktiv', '.'], ['VERB', 'DET', 'NOUN', 'ADP', 'NOUN', 'PUNCT', 'NOUN', 'CCONJ', 'NOUN', 'PUNCT', 'AUX', 'PRON', 'ADJ', 'PUNCT'])\n(['De', 'er', 'af', 'hendes', 'hidtil', 'største', 'udsmykningsopgave', 'i', 'det', 'nye', 'kommunikationsinstitut', 'ved', 'Mount', 'St.', 'Vincent', 'University', 'i', 'Halifax', ',', 'den', 'canadiske', 'provins', 'Nova', 'Scotia', '.'], ['PRON', 'VERB', 'ADP', 'DET', 'ADV', 'ADJ', 'NOUN', 'ADP', 'DET', 'ADJ', 'NOUN', 'ADP', 'PROPN', 'PROPN', 'PROPN', 'PROPN', 'ADP', 'PROPN', 'PUNCT', 'DET', 'ADJ', 'NOUN', 'PROPN', 'PROPN', 'PUNCT'])\n(['Hvor', 'henne', '?'], ['ADV', 'ADV', 'PUNCT'])\n(['Mucomyst', 'fås', 'i', 'håndkøb', 'på', 'apoteket', '.'], ['PROPN', 'VERB', 'ADP', 'NOUN', 'ADP', 'NOUN', 'PUNCT'])\n(['K.', 'J.', 'Philipsen', ',', 'Hasselvej', '6', ',', '3790', 'Hasle'], ['PROPN', 'PROPN', 'PROPN', 'PUNCT', 'PROPN', 'NUM', 'PUNCT', 'NUM', 'PROPN'])\n"
    }
   ],
   "source": [
    "for e in dev_data:\n",
    "    print(e)"
   ]
  },
  {
   "cell_type": "markdown",
   "metadata": {},
   "source": [
    "## HMM class\n",
    "We provide an HMM class, which includes the estimation of the transition as well as the emission probabilities:"
   ]
  },
  {
   "cell_type": "code",
   "execution_count": 3,
   "metadata": {},
   "outputs": [],
   "source": [
    "class HMM(object):\n",
    "    def __init__(self):\n",
    "        \"\"\"\n",
    "        initialize model parameters\n",
    "        :return:\n",
    "        \"\"\"\n",
    "        self.START = '_START_'\n",
    "        self.UNK = 'UNK'\n",
    "        self.STOP = '_STOP_'\n",
    "        self.transitions = defaultdict(lambda: defaultdict(float))\n",
    "        self.emissions = defaultdict(lambda: defaultdict(float))\n",
    "        self.vocabulary = set()\n",
    "        self.tags = set()\n",
    "\n",
    "    def fit(self, train_data):\n",
    "        \"\"\"\n",
    "        fit model to a file in CoNLL format.\n",
    "        :param file_name:\n",
    "        :return:\n",
    "        \"\"\"\n",
    "        counts = defaultdict(int)\n",
    "\n",
    "        # record all used tags and words\n",
    "        for (words, tags) in train_data:\n",
    "            \n",
    "            # iterate over sentence\n",
    "            for i, (word, tag) in enumerate(zip(words, tags)):\n",
    "                self.tags.add(tag)\n",
    "                self.vocabulary.add(word)\n",
    "                counts[word] += 1\n",
    "\n",
    "        ## collect counts \n",
    "        for (words, tags) in train_data:\n",
    "            \n",
    "            # add stop symbol\n",
    "            words=words+[self.STOP]\n",
    "            tags=tags+[self.STOP]\n",
    "\n",
    "            # iterate over sentence\n",
    "            for i, (word, tag) in enumerate(zip(words, tags)):\n",
    "\n",
    "                if i==0:\n",
    "                    prev_tag=self.START\n",
    "\n",
    "                    # record only transition from start\n",
    "                    self.transitions[prev_tag][tag] += 1\n",
    "                    \n",
    "                else:\n",
    "                    prev_tag=tags[i-1]\n",
    "\n",
    "                    # record count for transition\n",
    "                    self.transitions[prev_tag][tag] += 1\n",
    "\n",
    "                    if i < len(words)-1:\n",
    "                        # record count for emissions\n",
    "                        if counts[word] < 2:\n",
    "                            self.emissions[tag][self.UNK] += 1\n",
    "                        # note that infrequent words are counted twice\n",
    "                        self.emissions[tag][word] += 1\n",
    "\n",
    "        ## e(tag|word) = count(t->word)/count(word)\n",
    "        for tag in self.emissions:\n",
    "            total_tag=sum(self.emissions[tag].values())\n",
    "            for word in self.emissions[tag]:\n",
    "                prob_word_given_tag = self.emissions[tag][word] / float(total_tag)\n",
    "                self.emissions[tag][word] = prob_word_given_tag\n",
    "\n",
    "        ## t(tag|prevtag) = count(prevtag,tag)/ count(prevtag)\n",
    "        for prevtag in self.transitions:\n",
    "            total_prevtag=sum(self.transitions[prevtag].values())\n",
    "            for tag in self.transitions[prevtag]:\n",
    "                prob_tag_given_prevtag = self.transitions[prevtag][tag] / float(total_prevtag)\n",
    "                self.transitions[prevtag][tag] =  prob_tag_given_prevtag\n",
    "\n",
    "    def predict(self, data, method='most_likely'):\n",
    "        \"\"\"\n",
    "        predict the most likely tag sequence for all sentences in data\n",
    "\n",
    "        :param data: a list of sentences\n",
    "        :param method: viterbi or most likely decoding\n",
    "        :return: list of predicted tag sequences\n",
    "        \"\"\"\n",
    "        results = []\n",
    "        for sentence in data:\n",
    "            if method == 'viterbi':\n",
    "                results.append(self.predict_viterbi(sentence[0]))\n",
    "            else:\n",
    "                results.append(self.predict_most_likely(sentence[0]))\n",
    "        return results\n"
   ]
  },
  {
   "cell_type": "markdown",
   "metadata": {},
   "source": [
    "In the following function you are supposed to return the most likely tag for each word:"
   ]
  },
  {
   "cell_type": "code",
   "execution_count": 4,
   "metadata": {},
   "outputs": [],
   "source": [
    "def predict_most_likely(self, sentence):\n",
    "    \"\"\"\n",
    "    predict the single most likely tag (from training data) for every token in sentence\n",
    "    (i.e., just looks at a single tag at a time, no context)\n",
    "        \n",
    "    :sentence: list of tokens\n",
    "    :return: list of tags\n",
    "    \"\"\"\n",
    "    tagSeq = []\n",
    "    for word in sentence:\n",
    "        max_score = 0\n",
    "        best_tag = 'NOUN'\n",
    "        for tag in self.tags:\n",
    "            if (len(tagSeq) == 0):\n",
    "                cs = self.transitions[self.START][tag] * self.emissions[tag][word]\n",
    "                if cs > max_score:\n",
    "                    max_score = cs\n",
    "                    best_tag = tag\n",
    "            else:\n",
    "                cs = self.transitions[tagSeq[-1]][tag] * self.emissions[tag][word]\n",
    "                if cs > max_score:\n",
    "                    max_score = cs\n",
    "                    best_tag = tag\n",
    "        tagSeq.append(best_tag)\n",
    "    return tagSeq\n",
    "\n",
    "# To make the function link to the class in the previous cell\n",
    "HMM.predict_most_likely = predict_most_likely\n"
   ]
  },
  {
   "cell_type": "markdown",
   "metadata": {},
   "source": [
    "The following code is used to train a model, and predict using the most_likely strategy"
   ]
  },
  {
   "cell_type": "code",
   "execution_count": 5,
   "metadata": {},
   "outputs": [
    {
     "name": "stdout",
     "output_type": "stream",
     "text": "most likely scores:\nsent level:  0.1560\nword level:  0.8712\n\n"
    }
   ],
   "source": [
    "# create new model\n",
    "hmm = HMM()\n",
    "\n",
    "# fit model to training data\n",
    "hmm.fit(train_data)\n",
    "\n",
    "# get most likely tag predictions \n",
    "most_likely_predictions = hmm.predict(dev_data, method='most_likely')\n",
    "\n",
    "# evaluate\n",
    "gold = [x[1] for x in dev_data]\n",
    "sent_level, word_level = myutils.evaluate(gold, most_likely_predictions)\n",
    "\n",
    "print('most likely scores:')\n",
    "print('sent level:  {:.4f}'.format(sent_level))\n",
    "print('word level:  {:.4f}'.format(word_level))\n",
    "print()"
   ]
  },
  {
   "cell_type": "markdown",
   "metadata": {},
   "source": [
    "In the following function you are supposed to implement the Viterbi algorithm. The step from the START symbol to the first word is already implemented."
   ]
  },
  {
   "cell_type": "code",
   "execution_count": null,
   "metadata": {},
   "outputs": [],
   "source": [
    "def predict_viterbi(self,sentence):\n",
    "    \"\"\"\n",
    "    predict the most likely tag sequences using the Viterbi algorithm\n",
    "\n",
    "    :sentence: list of tokens\n",
    "    :return: list of tags\n",
    "    \"\"\"\n",
    "\n",
    "    # replace unknown words for simplicity\n",
    "    for i in range(len(sentence)):\n",
    "        if sentence[i] not in self.vocabulary:\n",
    "            sentence[i] = self.UNK\n",
    "\n",
    "    # prepare data structures\n",
    "    N = len(sentence)\n",
    "    viterbiProbs = np.zeros((N, len(self.tags)))\n",
    "    # viterbiBacktrace can be used to remember which previous tag was used\n",
    "    viterbiBacktrace = np.zeros((N, len(self.tags)), dtype=int)\n",
    "    # make self.tags a list, so we can use indexes\n",
    "    self.tags = sorted(self.tags)\n",
    "    # initialize first step (from START)\n",
    "    for tagIdx, tag in enumerate(self.tags):\n",
    "        emisProb = self.emissions[tag][sentence[0]]\n",
    "        transProb = self.transitions[self.START][tag]\n",
    "        viterbiProbs[0][tagIdx] = emisProb * transProb\n",
    "    print(sentence)\n",
    "    # process the rest of the sentence\n",
    "    for t in range(1,N):\n",
    "        #TODO implement\n",
    "        # find max probability of transition from previous states\n",
    "        # multiply with emission\n",
    "        # save both probability and path\n",
    "        for c_idx, current_tag in enumerate(self.tags):\n",
    "            max_trans = 0\n",
    "            max_index = -1\n",
    "            for p_idx, prev_tag in enumerate(self.tags):\n",
    "                c_trans = self.transitions[prev_tag][current_tag] * self.emissions[current_tag][sentence[t]] * viterbiProbs[t - 1, p_idx]\n",
    "                #print('current_tag: {}\\t prev_tag: {}\\t token: {}\\t transition_prob: {}'.format(current_tag, prev_tag, sentence[t], c_trans))\n",
    "                if c_trans > max_trans:\n",
    "                    max_trans = c_trans\n",
    "                    max_index = p_idx\n",
    "            viterbiProbs[t, c_idx] = max_trans\n",
    "            viterbiBacktrace[t, c_idx] = max_index\n",
    "        print(viterbiBacktrace)\n",
    "        print(viterbiProbs)\n",
    "\n",
    "    # final step (to STOP)\n",
    "    #TODO implement\n",
    "    \n",
    "    # retrieve the most likely sequence from backtrace\n",
    "    #TODO implement\n",
    "    tags = list()\n",
    "    m = (np.max(viterbiProbs[-1, :]))\n",
    "    depth = viterbiProbs.shape[0]\n",
    "    print(depth)\n",
    "    if m > 0:\n",
    "        first_step = np.argmax(viterbiProbs[-1,:])\n",
    "        print(first_step)\n",
    "    else:\n",
    "        return ['NOUN' for _ in range(depth)]\n",
    "    \n",
    "    tags = []\n",
    "    step = \n",
    "    while depth > 0:\n",
    "        tags.insert(0, self.tags[])\n",
    "    \n",
    "    return NotImplementedError\n",
    "\n",
    "# To make the function link to the class in a previous cell\n",
    "HMM.predict_viterbi = predict_viterbi\n"
   ]
  },
  {
   "cell_type": "markdown",
   "metadata": {},
   "source": [
    "In the following code-snippet the scores of the Viterbi implementation are evaluated. How much higher is the word-level accuracy? How much higher is the sentence-level accuracy?"
   ]
  },
  {
   "cell_type": "code",
   "execution_count": 22,
   "metadata": {},
   "outputs": [
    {
     "output_type": "stream",
     "name": "stdout",
     "text": "', 'INTJ', 'NOUN', 'NUM', 'PART', 'PRON', 'PROPN', 'PUNCT', 'SCONJ', 'SYM', 'VERB', 'X']\n['ADJ', 'ADP', 'ADV', 'AUX', 'CCONJ', 'DET', 'INTJ', 'NOUN', 'NUM', 'PART', 'PRON', 'PROPN', 'PUNCT', 'SCONJ', 'SYM', 'VERB', 'X']\n['ADJ', 'ADP', 'ADV', 'AUX', 'CCONJ', 'DET', 'INTJ', 'NOUN', 'NUM', 'PART', 'PRON', 'PROPN', 'PUNCT', 'SCONJ', 'SYM', 'VERB', 'X']\n['ADJ', 'ADP', 'ADV', 'AUX', 'CCONJ', 'DET', 'INTJ', 'NOUN', 'NUM', 'PART', 'PRON', 'PROPN', 'PUNCT', 'SCONJ', 'SYM', 'VERB', 'X']\n['ADJ', 'ADP', 'ADV', 'AUX', 'CCONJ', 'DET', 'INTJ', 'NOUN', 'NUM', 'PART', 'PRON', 'PROPN', 'PUNCT', 'SCONJ', 'SYM', 'VERB', 'X']\n['ADJ', 'ADP', 'ADV', 'AUX', 'CCONJ', 'DET', 'INTJ', 'NOUN', 'NUM', 'PART', 'PRON', 'PROPN', 'PUNCT', 'SCONJ', 'SYM', 'VERB', 'X']\n['ADJ', 'ADP', 'ADV', 'AUX', 'CCONJ', 'DET', 'INTJ', 'NOUN', 'NUM', 'PART', 'PRON', 'PROPN', 'PUNCT', 'SCONJ', 'SYM', 'VERB', 'X']\n['ADJ', 'ADP', 'ADV', 'AUX', 'CCONJ', 'DET', 'INTJ', 'NOUN', 'NUM', 'PART', 'PRON', 'PROPN', 'PUNCT', 'SCONJ', 'SYM', 'VERB', 'X']\n['ADJ', 'ADP', 'ADV', 'AUX', 'CCONJ', 'DET', 'INTJ', 'NOUN', 'NUM', 'PART', 'PRON', 'PROPN', 'PUNCT', 'SCONJ', 'SYM', 'VERB', 'X']\n['ADJ', 'ADP', 'ADV', 'AUX', 'CCONJ', 'DET', 'INTJ', 'NOUN', 'NUM', 'PART', 'PRON', 'PROPN', 'PUNCT', 'SCONJ', 'SYM', 'VERB', 'X']\n['ADJ', 'ADP', 'ADV', 'AUX', 'CCONJ', 'DET', 'INTJ', 'NOUN', 'NUM', 'PART', 'PRON', 'PROPN', 'PUNCT', 'SCONJ', 'SYM', 'VERB', 'X']\n['ADJ', 'ADP', 'ADV', 'AUX', 'CCONJ', 'DET', 'INTJ', 'NOUN', 'NUM', 'PART', 'PRON', 'PROPN', 'PUNCT', 'SCONJ', 'SYM', 'VERB', 'X']\n['ADJ', 'ADP', 'ADV', 'AUX', 'CCONJ', 'DET', 'INTJ', 'NOUN', 'NUM', 'PART', 'PRON', 'PROPN', 'PUNCT', 'SCONJ', 'SYM', 'VERB', 'X']\n['ADJ', 'ADP', 'ADV', 'AUX', 'CCONJ', 'DET', 'INTJ', 'NOUN', 'NUM', 'PART', 'PRON', 'PROPN', 'PUNCT', 'SCONJ', 'SYM', 'VERB', 'X']\n['ADJ', 'ADP', 'ADV', 'AUX', 'CCONJ', 'DET', 'INTJ', 'NOUN', 'NUM', 'PART', 'PRON', 'PROPN', 'PUNCT', 'SCONJ', 'SYM', 'VERB', 'X']\n['ADJ', 'ADP', 'ADV', 'AUX', 'CCONJ', 'DET', 'INTJ', 'NOUN', 'NUM', 'PART', 'PRON', 'PROPN', 'PUNCT', 'SCONJ', 'SYM', 'VERB', 'X']\n['ADJ', 'ADP', 'ADV', 'AUX', 'CCONJ', 'DET', 'INTJ', 'NOUN', 'NUM', 'PART', 'PRON', 'PROPN', 'PUNCT', 'SCONJ', 'SYM', 'VERB', 'X']\n['ADJ', 'ADP', 'ADV', 'AUX', 'CCONJ', 'DET', 'INTJ', 'NOUN', 'NUM', 'PART', 'PRON', 'PROPN', 'PUNCT', 'SCONJ', 'SYM', 'VERB', 'X']\n['ADJ', 'ADP', 'ADV', 'AUX', 'CCONJ', 'DET', 'INTJ', 'NOUN', 'NUM', 'PART', 'PRON', 'PROPN', 'PUNCT', 'SCONJ', 'SYM', 'VERB', 'X']\n['ADJ', 'ADP', 'ADV', 'AUX', 'CCONJ', 'DET', 'INTJ', 'NOUN', 'NUM', 'PART', 'PRON', 'PROPN', 'PUNCT', 'SCONJ', 'SYM', 'VERB', 'X']\n['ADJ', 'ADP', 'ADV', 'AUX', 'CCONJ', 'DET', 'INTJ', 'NOUN', 'NUM', 'PART', 'PRON', 'PROPN', 'PUNCT', 'SCONJ', 'SYM', 'VERB', 'X']\n['ADJ', 'ADP', 'ADV', 'AUX', 'CCONJ', 'DET', 'INTJ', 'NOUN', 'NUM', 'PART', 'PRON', 'PROPN', 'PUNCT', 'SCONJ', 'SYM', 'VERB', 'X']\n['ADJ', 'ADP', 'ADV', 'AUX', 'CCONJ', 'DET', 'INTJ', 'NOUN', 'NUM', 'PART', 'PRON', 'PROPN', 'PUNCT', 'SCONJ', 'SYM', 'VERB', 'X']\n['ADJ', 'ADP', 'ADV', 'AUX', 'CCONJ', 'DET', 'INTJ', 'NOUN', 'NUM', 'PART', 'PRON', 'PROPN', 'PUNCT', 'SCONJ', 'SYM', 'VERB', 'X']\n['ADJ', 'ADP', 'ADV', 'AUX', 'CCONJ', 'DET', 'INTJ', 'NOUN', 'NUM', 'PART', 'PRON', 'PROPN', 'PUNCT', 'SCONJ', 'SYM', 'VERB', 'X']\n['ADJ', 'ADP', 'ADV', 'AUX', 'CCONJ', 'DET', 'INTJ', 'NOUN', 'NUM', 'PART', 'PRON', 'PROPN', 'PUNCT', 'SCONJ', 'SYM', 'VERB', 'X']\n['ADJ', 'ADP', 'ADV', 'AUX', 'CCONJ', 'DET', 'INTJ', 'NOUN', 'NUM', 'PART', 'PRON', 'PROPN', 'PUNCT', 'SCONJ', 'SYM', 'VERB', 'X']\n['ADJ', 'ADP', 'ADV', 'AUX', 'CCONJ', 'DET', 'INTJ', 'NOUN', 'NUM', 'PART', 'PRON', 'PROPN', 'PUNCT', 'SCONJ', 'SYM', 'VERB', 'X']\n['ADJ', 'ADP', 'ADV', 'AUX', 'CCONJ', 'DET', 'INTJ', 'NOUN', 'NUM', 'PART', 'PRON', 'PROPN', 'PUNCT', 'SCONJ', 'SYM', 'VERB', 'X']\n['ADJ', 'ADP', 'ADV', 'AUX', 'CCONJ', 'DET', 'INTJ', 'NOUN', 'NUM', 'PART', 'PRON', 'PROPN', 'PUNCT', 'SCONJ', 'SYM', 'VERB', 'X']\n['ADJ', 'ADP', 'ADV', 'AUX', 'CCONJ', 'DET', 'INTJ', 'NOUN', 'NUM', 'PART', 'PRON', 'PROPN', 'PUNCT', 'SCONJ', 'SYM', 'VERB', 'X']\n['ADJ', 'ADP', 'ADV', 'AUX', 'CCONJ', 'DET', 'INTJ', 'NOUN', 'NUM', 'PART', 'PRON', 'PROPN', 'PUNCT', 'SCONJ', 'SYM', 'VERB', 'X']\n['ADJ', 'ADP', 'ADV', 'AUX', 'CCONJ', 'DET', 'INTJ', 'NOUN', 'NUM', 'PART', 'PRON', 'PROPN', 'PUNCT', 'SCONJ', 'SYM', 'VERB', 'X']\n['ADJ', 'ADP', 'ADV', 'AUX', 'CCONJ', 'DET', 'INTJ', 'NOUN', 'NUM', 'PART', 'PRON', 'PROPN', 'PUNCT', 'SCONJ', 'SYM', 'VERB', 'X']\n['ADJ', 'ADP', 'ADV', 'AUX', 'CCONJ', 'DET', 'INTJ', 'NOUN', 'NUM', 'PART', 'PRON', 'PROPN', 'PUNCT', 'SCONJ', 'SYM', 'VERB', 'X']\n['ADJ', 'ADP', 'ADV', 'AUX', 'CCONJ', 'DET', 'INTJ', 'NOUN', 'NUM', 'PART', 'PRON', 'PROPN', 'PUNCT', 'SCONJ', 'SYM', 'VERB', 'X']\n['ADJ', 'ADP', 'ADV', 'AUX', 'CCONJ', 'DET', 'INTJ', 'NOUN', 'NUM', 'PART', 'PRON', 'PROPN', 'PUNCT', 'SCONJ', 'SYM', 'VERB', 'X']\n['ADJ', 'ADP', 'ADV', 'AUX', 'CCONJ', 'DET', 'INTJ', 'NOUN', 'NUM', 'PART', 'PRON', 'PROPN', 'PUNCT', 'SCONJ', 'SYM', 'VERB', 'X']\n['ADJ', 'ADP', 'ADV', 'AUX', 'CCONJ', 'DET', 'INTJ', 'NOUN', 'NUM', 'PART', 'PRON', 'PROPN', 'PUNCT', 'SCONJ', 'SYM', 'VERB', 'X']\n['ADJ', 'ADP', 'ADV', 'AUX', 'CCONJ', 'DET', 'INTJ', 'NOUN', 'NUM', 'PART', 'PRON', 'PROPN', 'PUNCT', 'SCONJ', 'SYM', 'VERB', 'X']\n['ADJ', 'ADP', 'ADV', 'AUX', 'CCONJ', 'DET', 'INTJ', 'NOUN', 'NUM', 'PART', 'PRON', 'PROPN', 'PUNCT', 'SCONJ', 'SYM', 'VERB', 'X']\n['ADJ', 'ADP', 'ADV', 'AUX', 'CCONJ', 'DET', 'INTJ', 'NOUN', 'NUM', 'PART', 'PRON', 'PROPN', 'PUNCT', 'SCONJ', 'SYM', 'VERB', 'X']\n['ADJ', 'ADP', 'ADV', 'AUX', 'CCONJ', 'DET', 'INTJ', 'NOUN', 'NUM', 'PART', 'PRON', 'PROPN', 'PUNCT', 'SCONJ', 'SYM', 'VERB', 'X']\n['ADJ', 'ADP', 'ADV', 'AUX', 'CCONJ', 'DET', 'INTJ', 'NOUN', 'NUM', 'PART', 'PRON', 'PROPN', 'PUNCT', 'SCONJ', 'SYM', 'VERB', 'X']\n['ADJ', 'ADP', 'ADV', 'AUX', 'CCONJ', 'DET', 'INTJ', 'NOUN', 'NUM', 'PART', 'PRON', 'PROPN', 'PUNCT', 'SCONJ', 'SYM', 'VERB', 'X']\n['ADJ', 'ADP', 'ADV', 'AUX', 'CCONJ', 'DET', 'INTJ', 'NOUN', 'NUM', 'PART', 'PRON', 'PROPN', 'PUNCT', 'SCONJ', 'SYM', 'VERB', 'X']\n['ADJ', 'ADP', 'ADV', 'AUX', 'CCONJ', 'DET', 'INTJ', 'NOUN', 'NUM', 'PART', 'PRON', 'PROPN', 'PUNCT', 'SCONJ', 'SYM', 'VERB', 'X']\n['ADJ', 'ADP', 'ADV', 'AUX', 'CCONJ', 'DET', 'INTJ', 'NOUN', 'NUM', 'PART', 'PRON', 'PROPN', 'PUNCT', 'SCONJ', 'SYM', 'VERB', 'X']\n['ADJ', 'ADP', 'ADV', 'AUX', 'CCONJ', 'DET', 'INTJ', 'NOUN', 'NUM', 'PART', 'PRON', 'PROPN', 'PUNCT', 'SCONJ', 'SYM', 'VERB', 'X']\n['ADJ', 'ADP', 'ADV', 'AUX', 'CCONJ', 'DET', 'INTJ', 'NOUN', 'NUM', 'PART', 'PRON', 'PROPN', 'PUNCT', 'SCONJ', 'SYM', 'VERB', 'X']\n['ADJ', 'ADP', 'ADV', 'AUX', 'CCONJ', 'DET', 'INTJ', 'NOUN', 'NUM', 'PART', 'PRON', 'PROPN', 'PUNCT', 'SCONJ', 'SYM', 'VERB', 'X']\n['ADJ', 'ADP', 'ADV', 'AUX', 'CCONJ', 'DET', 'INTJ', 'NOUN', 'NUM', 'PART', 'PRON', 'PROPN', 'PUNCT', 'SCONJ', 'SYM', 'VERB', 'X']\n['ADJ', 'ADP', 'ADV', 'AUX', 'CCONJ', 'DET', 'INTJ', 'NOUN', 'NUM', 'PART', 'PRON', 'PROPN', 'PUNCT', 'SCONJ', 'SYM', 'VERB', 'X']\n['ADJ', 'ADP', 'ADV', 'AUX', 'CCONJ', 'DET', 'INTJ', 'NOUN', 'NUM', 'PART', 'PRON', 'PROPN', 'PUNCT', 'SCONJ', 'SYM', 'VERB', 'X']\n['ADJ', 'ADP', 'ADV', 'AUX', 'CCONJ', 'DET', 'INTJ', 'NOUN', 'NUM', 'PART', 'PRON', 'PROPN', 'PUNCT', 'SCONJ', 'SYM', 'VERB', 'X']\n['ADJ', 'ADP', 'ADV', 'AUX', 'CCONJ', 'DET', 'INTJ', 'NOUN', 'NUM', 'PART', 'PRON', 'PROPN', 'PUNCT', 'SCONJ', 'SYM', 'VERB', 'X']\n['ADJ', 'ADP', 'ADV', 'AUX', 'CCONJ', 'DET', 'INTJ', 'NOUN', 'NUM', 'PART', 'PRON', 'PROPN', 'PUNCT', 'SCONJ', 'SYM', 'VERB', 'X']\n['ADJ', 'ADP', 'ADV', 'AUX', 'CCONJ', 'DET', 'INTJ', 'NOUN', 'NUM', 'PART', 'PRON', 'PROPN', 'PUNCT', 'SCONJ', 'SYM', 'VERB', 'X']\n['ADJ', 'ADP', 'ADV', 'AUX', 'CCONJ', 'DET', 'INTJ', 'NOUN', 'NUM', 'PART', 'PRON', 'PROPN', 'PUNCT', 'SCONJ', 'SYM', 'VERB', 'X']\n['ADJ', 'ADP', 'ADV', 'AUX', 'CCONJ', 'DET', 'INTJ', 'NOUN', 'NUM', 'PART', 'PRON', 'PROPN', 'PUNCT', 'SCONJ', 'SYM', 'VERB', 'X']\n['ADJ', 'ADP', 'ADV', 'AUX', 'CCONJ', 'DET', 'INTJ', 'NOUN', 'NUM', 'PART', 'PRON', 'PROPN', 'PUNCT', 'SCONJ', 'SYM', 'VERB', 'X']\n['ADJ', 'ADP', 'ADV', 'AUX', 'CCONJ', 'DET', 'INTJ', 'NOUN', 'NUM', 'PART', 'PRON', 'PROPN', 'PUNCT', 'SCONJ', 'SYM', 'VERB', 'X']\n['ADJ', 'ADP', 'ADV', 'AUX', 'CCONJ', 'DET', 'INTJ', 'NOUN', 'NUM', 'PART', 'PRON', 'PROPN', 'PUNCT', 'SCONJ', 'SYM', 'VERB', 'X']\n['ADJ', 'ADP', 'ADV', 'AUX', 'CCONJ', 'DET', 'INTJ', 'NOUN', 'NUM', 'PART', 'PRON', 'PROPN', 'PUNCT', 'SCONJ', 'SYM', 'VERB', 'X']\n['ADJ', 'ADP', 'ADV', 'AUX', 'CCONJ', 'DET', 'INTJ', 'NOUN', 'NUM', 'PART', 'PRON', 'PROPN', 'PUNCT', 'SCONJ', 'SYM', 'VERB', 'X']\n['ADJ', 'ADP', 'ADV', 'AUX', 'CCONJ', 'DET', 'INTJ', 'NOUN', 'NUM', 'PART', 'PRON', 'PROPN', 'PUNCT', 'SCONJ', 'SYM', 'VERB', 'X']\n['ADJ', 'ADP', 'ADV', 'AUX', 'CCONJ', 'DET', 'INTJ', 'NOUN', 'NUM', 'PART', 'PRON', 'PROPN', 'PUNCT', 'SCONJ', 'SYM', 'VERB', 'X']\n['ADJ', 'ADP', 'ADV', 'AUX', 'CCONJ', 'DET', 'INTJ', 'NOUN', 'NUM', 'PART', 'PRON', 'PROPN', 'PUNCT', 'SCONJ', 'SYM', 'VERB', 'X']\n['ADJ', 'ADP', 'ADV', 'AUX', 'CCONJ', 'DET', 'INTJ', 'NOUN', 'NUM', 'PART', 'PRON', 'PROPN', 'PUNCT', 'SCONJ', 'SYM', 'VERB', 'X']\n['ADJ', 'ADP', 'ADV', 'AUX', 'CCONJ', 'DET', 'INTJ', 'NOUN', 'NUM', 'PART', 'PRON', 'PROPN', 'PUNCT', 'SCONJ', 'SYM', 'VERB', 'X']\n['ADJ', 'ADP', 'ADV', 'AUX', 'CCONJ', 'DET', 'INTJ', 'NOUN', 'NUM', 'PART', 'PRON', 'PROPN', 'PUNCT', 'SCONJ', 'SYM', 'VERB', 'X']\n['ADJ', 'ADP', 'ADV', 'AUX', 'CCONJ', 'DET', 'INTJ', 'NOUN', 'NUM', 'PART', 'PRON', 'PROPN', 'PUNCT', 'SCONJ', 'SYM', 'VERB', 'X']\n['ADJ', 'ADP', 'ADV', 'AUX', 'CCONJ', 'DET', 'INTJ', 'NOUN', 'NUM', 'PART', 'PRON', 'PROPN', 'PUNCT', 'SCONJ', 'SYM', 'VERB', 'X']\n['ADJ', 'ADP', 'ADV', 'AUX', 'CCONJ', 'DET', 'INTJ', 'NOUN', 'NUM', 'PART', 'PRON', 'PROPN', 'PUNCT', 'SCONJ', 'SYM', 'VERB', 'X']\n['ADJ', 'ADP', 'ADV', 'AUX', 'CCONJ', 'DET', 'INTJ', 'NOUN', 'NUM', 'PART', 'PRON', 'PROPN', 'PUNCT', 'SCONJ', 'SYM', 'VERB', 'X']\n['ADJ', 'ADP', 'ADV', 'AUX', 'CCONJ', 'DET', 'INTJ', 'NOUN', 'NUM', 'PART', 'PRON', 'PROPN', 'PUNCT', 'SCONJ', 'SYM', 'VERB', 'X']\n['ADJ', 'ADP', 'ADV', 'AUX', 'CCONJ', 'DET', 'INTJ', 'NOUN', 'NUM', 'PART', 'PRON', 'PROPN', 'PUNCT', 'SCONJ', 'SYM', 'VERB', 'X']\n['ADJ', 'ADP', 'ADV', 'AUX', 'CCONJ', 'DET', 'INTJ', 'NOUN', 'NUM', 'PART', 'PRON', 'PROPN', 'PUNCT', 'SCONJ', 'SYM', 'VERB', 'X']\n['ADJ', 'ADP', 'ADV', 'AUX', 'CCONJ', 'DET', 'INTJ', 'NOUN', 'NUM', 'PART', 'PRON', 'PROPN', 'PUNCT', 'SCONJ', 'SYM', 'VERB', 'X']\n['ADJ', 'ADP', 'ADV', 'AUX', 'CCONJ', 'DET', 'INTJ', 'NOUN', 'NUM', 'PART', 'PRON', 'PROPN', 'PUNCT', 'SCONJ', 'SYM', 'VERB', 'X']\n['ADJ', 'ADP', 'ADV', 'AUX', 'CCONJ', 'DET', 'INTJ', 'NOUN', 'NUM', 'PART', 'PRON', 'PROPN', 'PUNCT', 'SCONJ', 'SYM', 'VERB', 'X']\n['ADJ', 'ADP', 'ADV', 'AUX', 'CCONJ', 'DET', 'INTJ', 'NOUN', 'NUM', 'PART', 'PRON', 'PROPN', 'PUNCT', 'SCONJ', 'SYM', 'VERB', 'X']\n['ADJ', 'ADP', 'ADV', 'AUX', 'CCONJ', 'DET', 'INTJ', 'NOUN', 'NUM', 'PART', 'PRON', 'PROPN', 'PUNCT', 'SCONJ', 'SYM', 'VERB', 'X']\n['ADJ', 'ADP', 'ADV', 'AUX', 'CCONJ', 'DET', 'INTJ', 'NOUN', 'NUM', 'PART', 'PRON', 'PROPN', 'PUNCT', 'SCONJ', 'SYM', 'VERB', 'X']\n['ADJ', 'ADP', 'ADV', 'AUX', 'CCONJ', 'DET', 'INTJ', 'NOUN', 'NUM', 'PART', 'PRON', 'PROPN', 'PUNCT', 'SCONJ', 'SYM', 'VERB', 'X']\n['ADJ', 'ADP', 'ADV', 'AUX', 'CCONJ', 'DET', 'INTJ', 'NOUN', 'NUM', 'PART', 'PRON', 'PROPN', 'PUNCT', 'SCONJ', 'SYM', 'VERB', 'X']\n['ADJ', 'ADP', 'ADV', 'AUX', 'CCONJ', 'DET', 'INTJ', 'NOUN', 'NUM', 'PART', 'PRON', 'PROPN', 'PUNCT', 'SCONJ', 'SYM', 'VERB', 'X']\n['ADJ', 'ADP', 'ADV', 'AUX', 'CCONJ', 'DET', 'INTJ', 'NOUN', 'NUM', 'PART', 'PRON', 'PROPN', 'PUNCT', 'SCONJ', 'SYM', 'VERB', 'X']\n['ADJ', 'ADP', 'ADV', 'AUX', 'CCONJ', 'DET', 'INTJ', 'NOUN', 'NUM', 'PART', 'PRON', 'PROPN', 'PUNCT', 'SCONJ', 'SYM', 'VERB', 'X']\n['ADJ', 'ADP', 'ADV', 'AUX', 'CCONJ', 'DET', 'INTJ', 'NOUN', 'NUM', 'PART', 'PRON', 'PROPN', 'PUNCT', 'SCONJ', 'SYM', 'VERB', 'X']\n['ADJ', 'ADP', 'ADV', 'AUX', 'CCONJ', 'DET', 'INTJ', 'NOUN', 'NUM', 'PART', 'PRON', 'PROPN', 'PUNCT', 'SCONJ', 'SYM', 'VERB', 'X']\n['ADJ', 'ADP', 'ADV', 'AUX', 'CCONJ', 'DET', 'INTJ', 'NOUN', 'NUM', 'PART', 'PRON', 'PROPN', 'PUNCT', 'SCONJ', 'SYM', 'VERB', 'X']\n['ADJ', 'ADP', 'ADV', 'AUX', 'CCONJ', 'DET', 'INTJ', 'NOUN', 'NUM', 'PART', 'PRON', 'PROPN', 'PUNCT', 'SCONJ', 'SYM', 'VERB', 'X']\n['ADJ', 'ADP', 'ADV', 'AUX', 'CCONJ', 'DET', 'INTJ', 'NOUN', 'NUM', 'PART', 'PRON', 'PROPN', 'PUNCT', 'SCONJ', 'SYM', 'VERB', 'X']\n['ADJ', 'ADP', 'ADV', 'AUX', 'CCONJ', 'DET', 'INTJ', 'NOUN', 'NUM', 'PART', 'PRON', 'PROPN', 'PUNCT', 'SCONJ', 'SYM', 'VERB', 'X']\n['ADJ', 'ADP', 'ADV', 'AUX', 'CCONJ', 'DET', 'INTJ', 'NOUN', 'NUM', 'PART', 'PRON', 'PROPN', 'PUNCT', 'SCONJ', 'SYM', 'VERB', 'X']\n['ADJ', 'ADP', 'ADV', 'AUX', 'CCONJ', 'DET', 'INTJ', 'NOUN', 'NUM', 'PART', 'PRON', 'PROPN', 'PUNCT', 'SCONJ', 'SYM', 'VERB', 'X']\n['ADJ', 'ADP', 'ADV', 'AUX', 'CCONJ', 'DET', 'INTJ', 'NOUN', 'NUM', 'PART', 'PRON', 'PROPN', 'PUNCT', 'SCONJ', 'SYM', 'VERB', 'X']\n['ADJ', 'ADP', 'ADV', 'AUX', 'CCONJ', 'DET', 'INTJ', 'NOUN', 'NUM', 'PART', 'PRON', 'PROPN', 'PUNCT', 'SCONJ', 'SYM', 'VERB', 'X']\n['ADJ', 'ADP', 'ADV', 'AUX', 'CCONJ', 'DET', 'INTJ', 'NOUN', 'NUM', 'PART', 'PRON', 'PROPN', 'PUNCT', 'SCONJ', 'SYM', 'VERB', 'X']\n['ADJ', 'ADP', 'ADV', 'AUX', 'CCONJ', 'DET', 'INTJ', 'NOUN', 'NUM', 'PART', 'PRON', 'PROPN', 'PUNCT', 'SCONJ', 'SYM', 'VERB', 'X']\n['ADJ', 'ADP', 'ADV', 'AUX', 'CCONJ', 'DET', 'INTJ', 'NOUN', 'NUM', 'PART', 'PRON', 'PROPN', 'PUNCT', 'SCONJ', 'SYM', 'VERB', 'X']\n['ADJ', 'ADP', 'ADV', 'AUX', 'CCONJ', 'DET', 'INTJ', 'NOUN', 'NUM', 'PART', 'PRON', 'PROPN', 'PUNCT', 'SCONJ', 'SYM', 'VERB', 'X']\n['ADJ', 'ADP', 'ADV', 'AUX', 'CCONJ', 'DET', 'INTJ', 'NOUN', 'NUM', 'PART', 'PRON', 'PROPN', 'PUNCT', 'SCONJ', 'SYM', 'VERB', 'X']\n['ADJ', 'ADP', 'ADV', 'AUX', 'CCONJ', 'DET', 'INTJ', 'NOUN', 'NUM', 'PART', 'PRON', 'PROPN', 'PUNCT', 'SCONJ', 'SYM', 'VERB', 'X']\n['ADJ', 'ADP', 'ADV', 'AUX', 'CCONJ', 'DET', 'INTJ', 'NOUN', 'NUM', 'PART', 'PRON', 'PROPN', 'PUNCT', 'SCONJ', 'SYM', 'VERB', 'X']\n['ADJ', 'ADP', 'ADV', 'AUX', 'CCONJ', 'DET', 'INTJ', 'NOUN', 'NUM', 'PART', 'PRON', 'PROPN', 'PUNCT', 'SCONJ', 'SYM', 'VERB', 'X']\n['ADJ', 'ADP', 'ADV', 'AUX', 'CCONJ', 'DET', 'INTJ', 'NOUN', 'NUM', 'PART', 'PRON', 'PROPN', 'PUNCT', 'SCONJ', 'SYM', 'VERB', 'X']\n['ADJ', 'ADP', 'ADV', 'AUX', 'CCONJ', 'DET', 'INTJ', 'NOUN', 'NUM', 'PART', 'PRON', 'PROPN', 'PUNCT', 'SCONJ', 'SYM', 'VERB', 'X']\n['ADJ', 'ADP', 'ADV', 'AUX', 'CCONJ', 'DET', 'INTJ', 'NOUN', 'NUM', 'PART', 'PRON', 'PROPN', 'PUNCT', 'SCONJ', 'SYM', 'VERB', 'X']\n['ADJ', 'ADP', 'ADV', 'AUX', 'CCONJ', 'DET', 'INTJ', 'NOUN', 'NUM', 'PART', 'PRON', 'PROPN', 'PUNCT', 'SCONJ', 'SYM', 'VERB', 'X']\n['ADJ', 'ADP', 'ADV', 'AUX', 'CCONJ', 'DET', 'INTJ', 'NOUN', 'NUM', 'PART', 'PRON', 'PROPN', 'PUNCT', 'SCONJ', 'SYM', 'VERB', 'X']\n['ADJ', 'ADP', 'ADV', 'AUX', 'CCONJ', 'DET', 'INTJ', 'NOUN', 'NUM', 'PART', 'PRON', 'PROPN', 'PUNCT', 'SCONJ', 'SYM', 'VERB', 'X']\n['ADJ', 'ADP', 'ADV', 'AUX', 'CCONJ', 'DET', 'INTJ', 'NOUN', 'NUM', 'PART', 'PRON', 'PROPN', 'PUNCT', 'SCONJ', 'SYM', 'VERB', 'X']\n['ADJ', 'ADP', 'ADV', 'AUX', 'CCONJ', 'DET', 'INTJ', 'NOUN', 'NUM', 'PART', 'PRON', 'PROPN', 'PUNCT', 'SCONJ', 'SYM', 'VERB', 'X']\n['ADJ', 'ADP', 'ADV', 'AUX', 'CCONJ', 'DET', 'INTJ', 'NOUN', 'NUM', 'PART', 'PRON', 'PROPN', 'PUNCT', 'SCONJ', 'SYM', 'VERB', 'X']\n['ADJ', 'ADP', 'ADV', 'AUX', 'CCONJ', 'DET', 'INTJ', 'NOUN', 'NUM', 'PART', 'PRON', 'PROPN', 'PUNCT', 'SCONJ', 'SYM', 'VERB', 'X']\n['ADJ', 'ADP', 'ADV', 'AUX', 'CCONJ', 'DET', 'INTJ', 'NOUN', 'NUM', 'PART', 'PRON', 'PROPN', 'PUNCT', 'SCONJ', 'SYM', 'VERB', 'X']\n['ADJ', 'ADP', 'ADV', 'AUX', 'CCONJ', 'DET', 'INTJ', 'NOUN', 'NUM', 'PART', 'PRON', 'PROPN', 'PUNCT', 'SCONJ', 'SYM', 'VERB', 'X']\n['ADJ', 'ADP', 'ADV', 'AUX', 'CCONJ', 'DET', 'INTJ', 'NOUN', 'NUM', 'PART', 'PRON', 'PROPN', 'PUNCT', 'SCONJ', 'SYM', 'VERB', 'X']\n['ADJ', 'ADP', 'ADV', 'AUX', 'CCONJ', 'DET', 'INTJ', 'NOUN', 'NUM', 'PART', 'PRON', 'PROPN', 'PUNCT', 'SCONJ', 'SYM', 'VERB', 'X']\n['ADJ', 'ADP', 'ADV', 'AUX', 'CCONJ', 'DET', 'INTJ', 'NOUN', 'NUM', 'PART', 'PRON', 'PROPN', 'PUNCT', 'SCONJ', 'SYM', 'VERB', 'X']\n['ADJ', 'ADP', 'ADV', 'AUX', 'CCONJ', 'DET', 'INTJ', 'NOUN', 'NUM', 'PART', 'PRON', 'PROPN', 'PUNCT', 'SCONJ', 'SYM', 'VERB', 'X']\n['ADJ', 'ADP', 'ADV', 'AUX', 'CCONJ', 'DET', 'INTJ', 'NOUN', 'NUM', 'PART', 'PRON', 'PROPN', 'PUNCT', 'SCONJ', 'SYM', 'VERB', 'X']\n['ADJ', 'ADP', 'ADV', 'AUX', 'CCONJ', 'DET', 'INTJ', 'NOUN', 'NUM', 'PART', 'PRON', 'PROPN', 'PUNCT', 'SCONJ', 'SYM', 'VERB', 'X']\n['ADJ', 'ADP', 'ADV', 'AUX', 'CCONJ', 'DET', 'INTJ', 'NOUN', 'NUM', 'PART', 'PRON', 'PROPN', 'PUNCT', 'SCONJ', 'SYM', 'VERB', 'X']\n['ADJ', 'ADP', 'ADV', 'AUX', 'CCONJ', 'DET', 'INTJ', 'NOUN', 'NUM', 'PART', 'PRON', 'PROPN', 'PUNCT', 'SCONJ', 'SYM', 'VERB', 'X']\n['ADJ', 'ADP', 'ADV', 'AUX', 'CCONJ', 'DET', 'INTJ', 'NOUN', 'NUM', 'PART', 'PRON', 'PROPN', 'PUNCT', 'SCONJ', 'SYM', 'VERB', 'X']\n['ADJ', 'ADP', 'ADV', 'AUX', 'CCONJ', 'DET', 'INTJ', 'NOUN', 'NUM', 'PART', 'PRON', 'PROPN', 'PUNCT', 'SCONJ', 'SYM', 'VERB', 'X']\n['ADJ', 'ADP', 'ADV', 'AUX', 'CCONJ', 'DET', 'INTJ', 'NOUN', 'NUM', 'PART', 'PRON', 'PROPN', 'PUNCT', 'SCONJ', 'SYM', 'VERB', 'X']\n['ADJ', 'ADP', 'ADV', 'AUX', 'CCONJ', 'DET', 'INTJ', 'NOUN', 'NUM', 'PART', 'PRON', 'PROPN', 'PUNCT', 'SCONJ', 'SYM', 'VERB', 'X']\n['ADJ', 'ADP', 'ADV', 'AUX', 'CCONJ', 'DET', 'INTJ', 'NOUN', 'NUM', 'PART', 'PRON', 'PROPN', 'PUNCT', 'SCONJ', 'SYM', 'VERB', 'X']\n['ADJ', 'ADP', 'ADV', 'AUX', 'CCONJ', 'DET', 'INTJ', 'NOUN', 'NUM', 'PART', 'PRON', 'PROPN', 'PUNCT', 'SCONJ', 'SYM', 'VERB', 'X']\n['ADJ', 'ADP', 'ADV', 'AUX', 'CCONJ', 'DET', 'INTJ', 'NOUN', 'NUM', 'PART', 'PRON', 'PROPN', 'PUNCT', 'SCONJ', 'SYM', 'VERB', 'X']\n['ADJ', 'ADP', 'ADV', 'AUX', 'CCONJ', 'DET', 'INTJ', 'NOUN', 'NUM', 'PART', 'PRON', 'PROPN', 'PUNCT', 'SCONJ', 'SYM', 'VERB', 'X']\n['ADJ', 'ADP', 'ADV', 'AUX', 'CCONJ', 'DET', 'INTJ', 'NOUN', 'NUM', 'PART', 'PRON', 'PROPN', 'PUNCT', 'SCONJ', 'SYM', 'VERB', 'X']\n['ADJ', 'ADP', 'ADV', 'AUX', 'CCONJ', 'DET', 'INTJ', 'NOUN', 'NUM', 'PART', 'PRON', 'PROPN', 'PUNCT', 'SCONJ', 'SYM', 'VERB', 'X']\n['ADJ', 'ADP', 'ADV', 'AUX', 'CCONJ', 'DET', 'INTJ', 'NOUN', 'NUM', 'PART', 'PRON', 'PROPN', 'PUNCT', 'SCONJ', 'SYM', 'VERB', 'X']\n['ADJ', 'ADP', 'ADV', 'AUX', 'CCONJ', 'DET', 'INTJ', 'NOUN', 'NUM', 'PART', 'PRON', 'PROPN', 'PUNCT', 'SCONJ', 'SYM', 'VERB', 'X']\n['ADJ', 'ADP', 'ADV', 'AUX', 'CCONJ', 'DET', 'INTJ', 'NOUN', 'NUM', 'PART', 'PRON', 'PROPN', 'PUNCT', 'SCONJ', 'SYM', 'VERB', 'X']\n['ADJ', 'ADP', 'ADV', 'AUX', 'CCONJ', 'DET', 'INTJ', 'NOUN', 'NUM', 'PART', 'PRON', 'PROPN', 'PUNCT', 'SCONJ', 'SYM', 'VERB', 'X']\n['ADJ', 'ADP', 'ADV', 'AUX', 'CCONJ', 'DET', 'INTJ', 'NOUN', 'NUM', 'PART', 'PRON', 'PROPN', 'PUNCT', 'SCONJ', 'SYM', 'VERB', 'X']\n['ADJ', 'ADP', 'ADV', 'AUX', 'CCONJ', 'DET', 'INTJ', 'NOUN', 'NUM', 'PART', 'PRON', 'PROPN', 'PUNCT', 'SCONJ', 'SYM', 'VERB', 'X']\n['ADJ', 'ADP', 'ADV', 'AUX', 'CCONJ', 'DET', 'INTJ', 'NOUN', 'NUM', 'PART', 'PRON', 'PROPN', 'PUNCT', 'SCONJ', 'SYM', 'VERB', 'X']\n['ADJ', 'ADP', 'ADV', 'AUX', 'CCONJ', 'DET', 'INTJ', 'NOUN', 'NUM', 'PART', 'PRON', 'PROPN', 'PUNCT', 'SCONJ', 'SYM', 'VERB', 'X']\n['ADJ', 'ADP', 'ADV', 'AUX', 'CCONJ', 'DET', 'INTJ', 'NOUN', 'NUM', 'PART', 'PRON', 'PROPN', 'PUNCT', 'SCONJ', 'SYM', 'VERB', 'X']\n['ADJ', 'ADP', 'ADV', 'AUX', 'CCONJ', 'DET', 'INTJ', 'NOUN', 'NUM', 'PART', 'PRON', 'PROPN', 'PUNCT', 'SCONJ', 'SYM', 'VERB', 'X']\n['ADJ', 'ADP', 'ADV', 'AUX', 'CCONJ', 'DET', 'INTJ', 'NOUN', 'NUM', 'PART', 'PRON', 'PROPN', 'PUNCT', 'SCONJ', 'SYM', 'VERB', 'X']\n['ADJ', 'ADP', 'ADV', 'AUX', 'CCONJ', 'DET', 'INTJ', 'NOUN', 'NUM', 'PART', 'PRON', 'PROPN', 'PUNCT', 'SCONJ', 'SYM', 'VERB', 'X']\n['ADJ', 'ADP', 'ADV', 'AUX', 'CCONJ', 'DET', 'INTJ', 'NOUN', 'NUM', 'PART', 'PRON', 'PROPN', 'PUNCT', 'SCONJ', 'SYM', 'VERB', 'X']\n['ADJ', 'ADP', 'ADV', 'AUX', 'CCONJ', 'DET', 'INTJ', 'NOUN', 'NUM', 'PART', 'PRON', 'PROPN', 'PUNCT', 'SCONJ', 'SYM', 'VERB', 'X']\n['ADJ', 'ADP', 'ADV', 'AUX', 'CCONJ', 'DET', 'INTJ', 'NOUN', 'NUM', 'PART', 'PRON', 'PROPN', 'PUNCT', 'SCONJ', 'SYM', 'VERB', 'X']\n['ADJ', 'ADP', 'ADV', 'AUX', 'CCONJ', 'DET', 'INTJ', 'NOUN', 'NUM', 'PART', 'PRON', 'PROPN', 'PUNCT', 'SCONJ', 'SYM', 'VERB', 'X']"
    }
   ],
   "source": [
    "# get viterbi predictions\n",
    "viterbi_predictions = hmm.predict(dev_data[2:4], method='viterbi')\n",
    "# evaluate\n",
    "print(viterbi_predictions)\n",
    "#sent_level, word_level = myutils.evaluate(gold, viterbi_predictions)\n",
    "#print('viterbi scores:')\n",
    "#print('sent level:  {:.4f}'.format(sent_level))\n",
    "#print('word level:  {:.4f}'.format(word_level))\n",
    "#print()\n",
    ""
   ]
  },
  {
   "cell_type": "code",
   "execution_count": 42,
   "metadata": {},
   "outputs": [
    {
     "name": "stdout",
     "output_type": "stream",
     "text": " 'PRON', 'VERB', 'ADP', 'NOUN', 'CCONJ', 'NOUN', 'PUNCT', 'CCONJ', 'PRON', 'PRON', 'ADV', 'ADV', 'VERB', 'PUNCT', 'PRON', 'PRON', 'VERB', 'PART', 'AUX', 'VERB', 'PUNCT', 'SCONJ', 'PRON', 'VERB', 'DET', 'NOUN', 'ADV', 'PUNCT', 'CCONJ', 'ADP', 'ADV', 'VERB', 'PRON', 'PART', 'VERB', 'PRON', 'ADV', 'ADP', 'NOUN', 'PUNCT']\n['ADP', 'DET', 'ADJ', 'NOUN', 'PUNCT', 'PRON', 'AUX', 'PUNCT', 'AUX', 'NOUN', 'PROPN', 'PROPN', 'NUM', 'ADV', 'VERB', 'DET', 'NOUN', 'ADV', 'PUNCT', 'PRON', 'VERB', 'DET', 'ADJ', 'ADJ', 'NOUN', 'ADP', 'DET', 'ADJ', 'NOUN', 'PUNCT', 'CCONJ', 'ADP', 'VERB', 'CCONJ', 'ADJ', 'NOUN', 'PUNCT', 'PRON', 'ADP', 'NOUN', 'AUX', 'VERB', 'DET', 'ADJ', 'ADJ', 'NOUN', 'ADV', 'ADP', 'NOUN', 'ADP', 'NOUN', 'PUNCT']\n['PUNCT', 'PRON', 'AUX', 'DET', 'NOUN', 'PUNCT', 'SCONJ', 'PRON', 'VERB', 'PUNCT', 'PRON', 'VERB', 'PRON', 'ADP', 'PRON', 'PUNCT', 'PROPN', 'PUNCT', 'VERB', 'PROPN', 'DET', 'NOUN', 'PUNCT', 'SCONJ', 'PRON', 'AUX', 'ADV', 'ADP', 'NOUN', 'PUNCT']\n['PRON', 'VERB', 'ADV', 'DET', 'ADJ', 'NOUN', 'ADP', 'DET', 'ADJ', 'NOUN', 'PUNCT', 'DET', 'ADJ', 'NOUN', 'PUNCT', 'SCONJ', 'NOUN', 'VERB', 'PROPN', 'PROPN', 'ADV', 'ADV', 'ADP', 'NOUN', 'PUNCT']\n['ADV', 'VERB', 'VERB', 'PRON', 'PUNCT', 'PRON', 'PRON', 'VERB', 'ADP', 'NOUN', 'ADP', 'PROPN', 'PUNCT']\n['VERB', 'NOUN', 'ADV', 'CCONJ', 'VERB', 'ADV', 'DET', 'NOUN', 'NOUN', 'PUNCT']\n['DET', 'NOUN', 'PUNCT', 'ADV', 'AUX', 'DET', 'NOUN', 'ADP', 'ADJ', 'PUNCT']\n['ADP', 'ADJ', 'NOUN', 'VERB', 'PRON', 'X', 'CCONJ', 'NOUN', 'ADV', 'PUNCT', 'ADV', 'PRON', 'VERB', 'ADP', 'ADJ', 'NOUN', 'PUNCT']\n['NOUN', 'AUX', 'PRON', 'AUX', 'ADJ', 'ADP', 'PUNCT', 'PRON', 'AUX', 'VERB', 'PRON', 'ADJ', 'NOUN', 'ADP', 'ADJ', 'NOUN', 'CCONJ', 'ADP', 'ADV', 'ADJ', 'PRON', 'VERB', 'PUNCT', 'AUX', 'PRON', 'ADJ', 'ADP', 'NOUN', 'PART', 'VERB', 'PRON', 'ADV', 'ADP', 'ADJ', 'NOUN', 'CCONJ', 'ADJ', 'NOUN', 'PUNCT']\n['PUNCT', 'ADV', 'PUNCT']\n['PRON', 'PUNCT', 'PRON', 'VERB', 'PRON', 'PUNCT', 'VERB', 'PUNCT', 'SCONJ', 'PRON', 'ADV', 'ADV', 'VERB', 'PUNCT', 'SCONJ', 'ADV', 'ADJ', 'NOUN', 'CCONJ', 'X', 'CCONJ', 'DET', 'NOUN', 'AUX', 'VERB', 'ADP', 'DET', 'NOUN', 'PUNCT']\n['ADP', 'NOUN', 'NOUN', 'VERB', 'NOUN', 'NOUN', 'ADP', 'PART', 'VERB', 'PRON', 'NOUN', 'ADP', 'PART', 'VERB', 'ADJ', 'NOUN', 'PUNCT', 'ADV', 'NOUN', 'VERB', 'ADV', 'PUNCT']\n['NOUN', 'AUX', 'DET', 'NOUN', 'PUNCT', 'DET', 'ADJ', 'NOUN', 'AUX', 'NOUN', 'ADP', 'PUNCT']\n['ADV', 'VERB', 'ADV', 'DET', 'NOUN', 'ADP', 'DET', 'NOUN', 'ADP', 'NOUN', 'PROPN', 'PROPN', 'ADP', 'NOUN', 'NOUN', 'PUNCT', 'ADV', 'ADP', 'NOUN', 'ADP', 'DET', 'ADJ', 'NOUN', 'AUX', 'AUX', 'PROPN', 'PROPN', 'ADJ', 'PUNCT']\n['DET', 'ADV', 'ADJ', 'NOUN', 'AUX', 'ADV', 'ADV', 'VERB', 'PRON', 'PUNCT']\n['PRON', 'VERB', 'PART', 'VERB', 'DET', 'ADJ', 'PUNCT', 'NOUN', 'PUNCT', 'CCONJ', 'NOUN', 'PUNCT', 'PRON', 'VERB', 'ADV', 'ADP', 'ADJ', 'ADV', 'ADP', 'PRON', 'PUNCT']\n['PUNCT', 'PRON', 'VERB', 'ADP', 'PROPN', 'NOUN', 'ADP', 'PART', 'VERB', 'NOUN', 'PUNCT', 'NOUN', 'CCONJ', 'NOUN', 'ADJ', 'NOUN', 'PUNCT', 'VERB', 'PROPN', 'PROPN', 'PUNCT']\n['ADP', 'ADJ', 'NOUN', 'AUX', 'PRON', 'ADV', 'ADJ', 'PUNCT', 'CCONJ', 'DET', 'ADJ', 'NOUN', 'ADP', 'NOUN', 'ADP', 'NOUN', 'ADP', 'DET', 'ADJ', 'NOUN', 'PUNCT', 'NUM', 'NOUN', 'ADJ', 'NOUN', 'ADP', 'NOUN', 'ADP', 'DET', 'ADJ', 'NOUN', 'CCONJ', 'NOUN', 'VERB', 'NOUN', 'VERB', 'ADP', 'PROPN', 'NOUN', 'PUNCT']\n['PRON', 'VERB', 'PRON', 'ADV', 'CCONJ', 'VERB', 'PRON', 'ADP', 'NOUN', 'PUNCT']\n['VERB', 'ADP', 'DET', 'ADJ', 'NOUN', 'AUX', 'PRON', 'VERB', 'ADP', 'DET', 'ADJ', 'NOUN', 'PUNCT', 'ADJ', 'NOUN', 'PUNCT', 'ADJ', 'NOUN', 'ADP', 'DET', 'ADJ', 'NOUN', 'CCONJ', 'DET', 'ADJ', 'NOUN', 'PUNCT']\n['ADV', 'VERB', 'ADV', 'NOUN', 'PROPN', 'ADP', 'NOUN', 'PUNCT']\n['CCONJ', 'VERB', 'NOUN', 'CCONJ', 'NOUN', 'PUNCT']\n['PRON', 'AUX', 'ADV', 'AUX', 'ADJ', 'PART', 'AUX', 'NOUN', 'ADP', 'DET', 'NOUN', 'PUNCT', 'DET', 'ADV', 'ADV', 'ADJ', 'NOUN', 'ADP', 'NOUN', 'AUX', 'PUNCT']\n['NOUN', 'AUX', 'ADP', 'ADV', 'VERB', 'ADP', 'PROPN', 'ADP', 'NOUN', 'PUNCT', 'CCONJ', 'PROPN', 'X', 'X', 'AUX', 'ADP', 'DET', 'NOUN', 'ADV', 'VERB', 'VERB', 'ADV', 'CCONJ', 'ADP', 'ADJ', 'VERB', 'ADP', 'NOUN', 'ADP', 'NOUN', 'NOUN', 'PUNCT']\n['PRON', 'AUX', 'VERB', 'NOUN', 'ADP', 'ADJ', 'NOUN', 'PUNCT']\n['PUNCT', 'PRON', 'VERB', 'PART', 'VERB', 'ADP', 'NOUN', 'ADP', 'PRON', 'CCONJ', 'AUX', 'ADV', 'VERB', 'ADP', 'PRON', 'PUNCT']\n['PRON', 'VERB', 'VERB', 'ADP', 'NOUN', 'ADV', 'ADV', 'CCONJ', 'ADJ', 'NOUN', 'ADP', 'DET', 'NOUN', 'ADV', 'VERB', 'ADP', 'NOUN', 'ADP', 'NOUN', 'ADP', 'NOUN', 'ADP', 'NOUN', 'PUNCT']\n['AUX', 'DET', 'ADJ', 'NOUN', 'ADV', 'ADJ', 'ADV', 'PUNCT', 'INTJ', 'ADV', 'AUX', 'NOUN', 'ADV', 'ADJ', 'NOUN', 'ADV', 'PUNCT']\n['ADV', 'DET', 'ADV', 'ADV', 'ADJ', 'NOUN', 'PUNCT', 'NUM', 'NUM', 'NOUN', 'PUNCT', 'PUNCT']\n['PROPN', 'CCONJ', 'DET', 'DET', 'NOUN', 'VERB', 'VERB', 'CCONJ', 'VERB', 'ADV', 'ADP', 'NOUN', 'PUNCT', 'SCONJ', 'PRON', 'ADV', 'ADP', 'DET', 'NOUN', 'VERB', 'PRON', 'ADV', 'ADP', 'NOUN', 'CCONJ', 'VERB', 'PUNCT']\n['NOUN', 'VERB', 'ADV', 'PUNCT']\n['ADP', 'PART', 'VERB', 'ADV', 'PUNCT', 'VERB', 'PRON', 'ADP', 'NOUN', 'PUNCT']\n['ADV', 'NOUN', 'ADP', 'ADJ', 'NOUN', 'PUNCT', 'PROPN', 'PROPN', 'PUNCT']\n['ADJ', 'NOUN', 'ADP', 'NOUN', 'ADP', 'NOUN', 'PUNCT', 'NOUN', 'CCONJ', 'NOUN', 'CCONJ', 'NOUN', 'VERB', 'ADV', 'PUNCT']\n['ADV', 'ADV', 'NOUN']\n['PRON', 'VERB']\n['NOUN', 'NOUN', 'PUNCT']\n['ADV', 'AUX', 'PRON', 'ADJ', 'PUNCT']\n['PRON', 'VERB', 'PRON', 'ADV', 'PUNCT']\n['PROPN', 'VERB', 'PROPN', 'ADP', 'DET', 'NOUN', 'NOUN', 'ADP', 'PART', 'VERB', 'DET', 'ADJ', 'NOUN', 'CCONJ', 'ADJ', 'NOUN', 'PUNCT']\n['PRON', 'AUX', 'VERB', 'ADV', 'PUNCT', 'SCONJ', 'PROPN', 'NOUN', 'ADV', 'VERB', 'NOUN', 'PUNCT', 'CCONJ', 'DET', 'NOUN', 'ADP', 'NOUN', 'PUNCT', 'CCONJ', 'ADV', 'AUX', 'DET', 'ADJ', 'NOUN', 'PUNCT', 'NOUN', 'PUNCT', 'CCONJ', 'DET', 'NOUN', 'ADP', 'PROPN', 'ADP', 'PROPN', 'NOUN', 'ADV', 'ADJ', 'ADP', 'DET', 'NOUN', 'PUNCT', 'PROPN', 'AUX', 'PUNCT']\n['PUNCT', 'ADP', 'NOUN', 'PUNCT']\n['NOUN', 'VERB', 'PUNCT', 'ADV', 'ADV', 'PUNCT', 'ADP', 'PROPN', 'PROPN', 'NOUN', 'NOUN', 'PUNCT']\n['PUNCT', 'NOUN', 'VERB', 'ADV', 'PUNCT', 'SCONJ', 'ADJ', 'X', 'ADJ', 'NOUN', 'ADV', 'ADP', 'DET', 'VERB', 'NOUN', 'AUX', 'VERB', 'ADJ', 'NOUN', 'VERB', 'PUNCT']\n['VERB', 'PRON', 'DET', 'NOUN', 'ADP', 'PART', 'VERB', 'NOUN', 'CCONJ', 'VERB', 'NOUN', 'ADV', 'ADP', 'NOUN', 'PUNCT', 'VERB', 'PRON', 'ADP', 'DET', 'ADJ', 'NOUN', 'PUNCT', 'ADV', 'PUNCT', 'PROPN', 'NOUN', 'PUNCT', 'PUNCT']\n['ADJ']\n['NOUN', 'PUNCT', 'NOUN']\n['DET', 'NOUN', 'VERB', 'X', 'CCONJ', 'ADJ', 'NOUN', 'X', 'ADP', 'X', 'NOUN', 'PUNCT', 'CCONJ', 'ADV', 'DET', 'PUNCT', 'ADJ', 'PUNCT', 'NOUN', 'VERB', 'NOUN', 'ADP', 'ADV', 'PUNCT', 'VERB', 'DET', 'ADJ', 'NOUN', 'ADP', 'NOUN', 'NOUN', 'ADP', 'ADV', 'PUNCT']\n['DET', 'NOUN', 'VERB', 'PROPN', 'NOUN', 'AUX', 'NOUN', 'PUNCT']\n['ADJ', 'NOUN', 'VERB', 'ADV', 'ADV', 'PUNCT', 'SCONJ', 'PRON', 'VERB', 'NOUN', 'ADP', 'NOUN', 'ADP', 'PART', 'VERB', 'PUNCT', 'ADJ', 'NOUN', 'VERB', 'ADV', 'ADP', 'NOUN', 'ADP', 'PRON', 'PUNCT', 'PRON', 'AUX', 'VERB', 'PUNCT', 'SCONJ', 'PRON', 'VERB', 'ADV', 'ADP', 'DET', 'NOUN', 'ADV', 'PUNCT']\n['PRON', 'AUX', 'ADV', 'ADJ', 'ADV', 'ADJ', 'ADP', 'NOUN', 'ADV', 'PUNCT', 'VERB', 'PRON', 'ADP', 'PROPN', 'NOUN', 'NOUN', 'ADP', 'NUM', 'PUNCT']\n['VERB', 'NOUN', 'ADP', 'NOUN', 'CCONJ', 'VERB', 'NOUN', 'ADV', 'ADP', 'NOUN', 'PUNCT']\n['NOUN', 'AUX', 'NOUN', 'ADP', 'ADJ', 'NOUN', 'ADP', 'DET', 'NOUN', 'PUNCT', 'PRON', 'VERB', 'ADP', 'NOUN', 'PUNCT']\n['PUNCT', 'PRON', 'ADP', 'PRON', 'AUX', 'VERB', 'DET', 'NOUN', 'PUNCT', 'PRON', 'VERB', 'ADV', 'ADP', 'PUNCT', 'SCONJ', 'PRON', 'VERB', 'ADP', 'NOUN', 'ADP', 'PART', 'AUX', 'ADJ', 'PUNCT', 'VERB', 'PROPN', 'PROPN', 'PUNCT']\n['PRON', 'VERB', 'ADP', 'ADJ', 'PUNCT', 'CCONJ', 'NOUN', 'ADP', 'ADJ', 'NOUN', 'VERB', 'PUNCT', 'SCONJ', 'ADV', 'VERB', 'NOUN', 'ADP', 'NUM', 'NOUN', 'NOUN', 'PUNCT']\n['PUNCT', 'VERB', 'PRON', 'NOUN', 'PART', 'VERB', 'NOUN', 'ADV', 'PUNCT']\n['PUNCT', 'DET', 'ADJ', 'NOUN', 'AUX', 'VERB', 'PUNCT', 'SCONJ', 'NOUN', 'AUX', 'VERB', 'VERB', 'PUNCT']\n['ADV', 'VERB', 'PRON', 'VERB', 'ADP', 'ADV', 'NOUN', 'PUNCT']\n['PRON', 'AUX', 'VERB', 'ADP', 'PART', 'AUX', 'VERB', 'NOUN', 'DET', 'NOUN', 'ADP', 'ADP', 'NUM', 'NOUN', 'NOUN', 'ADP', 'ADJ', 'CCONJ', 'ADJ', 'NOUN', 'PUNCT']\n['DET', 'ADJ', 'NOUN', 'ADP', 'PUNCT', 'SCONJ', 'PRON', 'VERB', 'DET', 'NOUN', 'PUNCT', 'VERB', 'DET', 'ADJ', 'NOUN', 'PROPN', 'PROPN', 'ADV', 'ADV', 'PUNCT', 'SCONJ', 'PROPN', 'ADV', 'AUX', 'VERB', 'NOUN', 'ADP', 'PUNCT', 'SCONJ', 'PRON', 'VERB', 'NOUN', 'AUX', 'ADV', 'VERB', 'ADP', 'PROPN', 'PROPN', 'PROPN', 'PUNCT', 'CCONJ', 'AUX', 'VERB', 'PUNCT', 'SCONJ', 'PRON', 'VERB', 'NOUN', 'ADP', 'PUNCT', 'NOUN', 'PUNCT', 'NOUN', 'PROPN', 'PROPN', 'PUNCT']\n['PUNCT', 'PRON', 'VERB', 'DET', 'NOUN', 'ADP', 'PROPN', 'CCONJ', 'AUX', 'ADP', 'DET', 'NOUN', 'AUX', 'ADV', 'ADP', 'PART', 'VERB', 'NOUN', 'ADV', 'PUNCT', 'VERB', 'PROPN', 'PROPN', 'PUNCT', 'PRON', 'VERB', 'SCONJ', 'PROPN', 'PROPN', 'ADV', 'AUX', 'NOUN', 'ADP', 'PROPN', 'PUNCT']\n['ADV', 'VERB', 'ADV', 'DET', 'ADJ', 'NOUN', 'CCONJ', 'NUM', 'NOUN', 'PUNCT', 'SCONJ', 'PRON', 'AUX', 'ADP', 'DET', 'NOUN', 'ADJ', 'PUNCT']\n['NOUN', 'AUX', 'VERB', 'ADP', 'DET', 'ADJ', 'NOUN', 'ADP', 'PROPN', 'PUNCT']\n['PUNCT', 'PRON', 'AUX', 'VERB', 'ADP', 'PRON', 'PART', 'VERB', 'ADP', 'DET', 'ADJ', 'NOUN', 'PUNCT']\n['DET', 'ADJ', 'NOUN', 'AUX', 'AUX', 'ADJ', 'ADP', 'NOUN', 'ADP', 'PART', 'VERB', 'ADP', 'NOUN', 'ADP', 'PART', 'VERB', 'PUNCT', 'CCONJ', 'ADP', 'NOUN', 'VERB', 'NOUN', 'PART', 'VERB', 'DET', 'NOUN', 'PUNCT', 'PRON', 'AUX', 'VERB', 'DET', 'NOUN', 'ADP', 'ADJ', 'NOUN', 'ADP', 'NOUN', 'PUNCT']\n['PROPN', 'NOUN', 'NOUN', 'VERB', 'ADP', 'PART', 'AUX', 'AUX', 'DET', 'ADJ', 'NOUN', 'ADP', 'PROPN', 'ADP', 'ADJ', 'NOUN', 'PUNCT']\n['NOUN', 'PUNCT', 'PRON', 'AUX', 'VERB', 'ADP', 'NOUN', 'PUNCT', 'CCONJ', 'ADP', 'ADJ', 'NOUN', 'ADP', 'NOUN', 'AUX', 'VERB', 'ADP', 'NOUN', 'PUNCT']\n['PRON', 'AUX', 'ADV', 'ADJ', 'PUNCT', 'SCONJ', 'PUNCT', 'ADJ', 'PROPN', 'NOUN', 'PUNCT', 'ADV', 'ADP', 'NOUN', 'AUX', 'VERB', 'DET', 'NOUN', 'ADP', 'NOUN', 'ADP', 'PART', 'VERB', 'DET', 'ADJ', 'PUNCT', 'ADP', 'VERB', 'ADP', 'DET', 'ADJ', 'PUNCT', 'ADP', 'NOUN', 'ADP', 'NOUN', 'ADP', 'ADJ', 'ADJ', 'VERB', 'PUNCT']\n['DET', 'NOUN', 'VERB', 'PROPN', 'PROPN', 'PRON', 'ADV', 'NOUN', 'ADP', 'PUNCT', 'PRON', 'VERB', 'ADV', 'ADP', 'NOUN', 'PUNCT', 'CCONJ', 'VERB', 'PUNCT', 'PRON', 'ADP', 'PROPN', 'VERB', 'PART', 'VERB', 'ADV', 'ADJ', 'NOUN', 'PUNCT']\n['DET', 'ADJ', 'NOUN', 'AUX', 'VERB', 'PRON', 'ADP', 'DET', 'NOUN', 'PUNCT', 'CCONJ', 'ADP', 'DET', 'NOUN', 'VERB', 'NOUN', 'ADV', 'SCONJ', 'PRON', 'VERB', 'ADP', 'DET', 'NOUN', 'PUNCT']\n['ADJ', 'NOUN', 'AUX', 'VERB', 'ADP', 'NOUN', 'ADP', 'PROPN', 'CCONJ', 'PROPN', 'ADP', 'NUM', 'PUNCT', 'SCONJ', 'PROPN', 'X', 'PROPN', 'ADP', 'PROPN', 'ADP', 'NUM', 'PUNCT', 'ADP', 'PROPN', 'ADP', 'NUM', 'PUNCT', 'ADP', 'PROPN', 'ADP', 'NUM', 'CCONJ', 'ADP', 'PROPN', 'ADP', 'NUM', 'PUNCT']\n['NOUN', 'VERB', 'PUNCT']\n['ADV', 'AUX', 'PRON', 'ADJ', 'NOUN', 'ADP', 'DET', 'NOUN', 'ADP', 'NOUN', 'ADP', 'ADJ', 'NOUN', 'PUNCT']\n['ADJ', 'VERB', 'ADP', 'ADV', 'ADV', 'ADJ', 'NOUN', 'ADP', 'NOUN', 'PUNCT']\n['ADV', 'AUX', 'DET', 'ADJ', 'NOUN', 'VERB', 'ADP', 'NOUN', 'CCONJ', 'ADJ', 'NOUN', 'NOUN', 'ADP', 'NOUN', 'ADV', 'ADP', 'ADP', 'NOUN', 'PUNCT']\n['PRON', 'VERB', 'DET', 'NOUN', 'PUNCT', 'SCONJ', 'PRON', 'VERB', 'PRON', 'ADV', 'ADP', 'NOUN', 'PUNCT']\n['PRON', 'ADP', 'NOUN', 'NOUN', 'PUNCT', 'PROPN', 'PROPN', 'PROPN', 'ADV', 'VERB', 'PUNCT', 'AUX', 'VERB', 'ADP', 'ADJ', 'NOUN', 'ADP', 'DET', 'NOUN', 'ADP', 'DET', 'ADJ', 'NOUN', 'PUNCT', 'PROPN', 'PROPN', 'VERB', 'ADV', 'ADP', 'DET', 'NOUN', 'PUNCT']\n['CCONJ', 'NOUN', 'VERB', 'NOUN', 'ADV', 'PUNCT']\n['SCONJ', 'PUNCT', 'DET', 'ADJ', 'NOUN', 'VERB', 'ADV', 'VERB', 'PUNCT', 'CCONJ', 'PROPN', 'AUX', 'ADV', 'ADV', 'ADP', 'NOUN', 'ADP', 'PART', 'VERB', 'NOUN', 'PUNCT']\n['PRON', 'AUX', 'ADV', 'ADV', 'VERB', 'PUNCT', 'CCONJ', 'ADV', 'ADV', 'ADJ', 'AUX', 'PRON', 'ADV', 'ADP', 'VERB', 'PUNCT', 'SCONJ', 'PROPN', 'PROPN', 'ADV', 'VERB', 'DET', 'ADJ', 'NOUN', 'PUNCT']\n['PROPN', 'PUNCT', 'DET', 'NOUN', 'ADP', 'PROPN', 'AUX', 'ADV', 'VERB', 'PUNCT', 'ADP', 'SCONJ', 'NOUN', 'NOUN', 'CCONJ', 'NOUN', 'AUX', 'VERB', 'PUNCT', 'SCONJ', 'ADV', 'ADV', 'ADV', 'VERB', 'ADJ', 'NOUN', 'PUNCT']\n['PRON', 'VERB', 'ADP', 'NOUN', 'PUNCT', 'DET', 'ADJ', 'NOUN', 'CCONJ', 'PRON', 'PUNCT']\n['NOUN', 'VERB', 'PRON', 'CCONJ', 'DET', 'ADJ', 'NOUN', 'ADP', 'NOUN', 'ADP', 'NOUN', 'ADP', 'NOUN', 'ADP', 'DET', 'NOUN', 'CCONJ', 'DET', 'NOUN', 'PUNCT']\n['NOUN', 'PUNCT', 'NUM', 'NOUN', 'PUNCT']\n['PUNCT', 'ADP', 'PRON', 'PUNCT', 'PRON', 'AUX', 'VERB', 'PROPN', 'PROPN', 'PROPN', 'PUNCT', 'VERB', 'NOUN', 'ADV', 'PUNCT']\n['ADV', 'AUX', 'DET', 'NOUN', 'VERB', 'VERB', 'PUNCT']\n['DET', 'ADJ', 'ADP', 'NOUN', 'ADP', 'DET', 'NOUN', 'NOUN', 'VERB', 'PUNCT', 'SCONJ', 'DET', 'ADJ', 'NOUN', 'VERB', 'PUNCT', 'ADV', 'VERB', 'DET', 'ADJ', 'ADV', 'PUNCT', 'ADP', 'SCONJ', 'DET', 'NOUN', 'VERB', 'ADV', 'PUNCT']\n['PRON', 'VERB', 'PRON', 'CCONJ', 'VERB', 'ADP', 'NOUN', 'ADP', 'DET', 'ADJ', 'NOUN', 'ADP', 'NOUN', 'NOUN', 'PUNCT']\n['PRON', 'VERB', 'ADV', 'ADP', 'PART', 'AUX', 'DET', 'NOUN', 'ADP', 'NOUN', 'PUNCT', 'SCONJ', 'DET', 'ADJ', 'NOUN', 'PUNCT', 'PRON', 'VERB', 'NOUN', 'ADP', 'NOUN', 'PUNCT', 'VERB', 'ADP', 'PART', 'VERB', 'ADJ', 'ADP', 'NOUN', 'PUNCT', 'PRON', 'AUX', 'VERB', 'NOUN', 'ADP', 'DET', 'ADJ', 'NOUN', 'PUNCT']\n['NOUN', 'CCONJ', 'NOUN', 'PUNCT', 'ADP', 'NOUN', 'ADP', 'NOUN', 'PUNCT', 'VERB', 'PRON', 'ADP', 'ADJ', 'NOUN', 'ADV', 'PART', 'VERB', 'DET', 'ADJ', 'NOUN', 'ADP', 'ADJ', 'PUNCT']\n['ADV', 'AUX', 'PRON', 'VERB', 'ADV', 'ADP', 'NOUN', 'ADP', 'ADJ', 'NOUN', 'NOUN', 'NOUN']\n['PROPN', 'NOUN', 'PROPN', 'PROPN', 'VERB', 'PRON', 'ADV', 'ADV', 'ADP', 'PROPN', 'PUNCT', 'PUNCT', 'ADP', 'DET', 'ADJ', 'NUM', 'NOUN', 'ADP', 'NOUN', 'AUX', 'PRON', 'PRON', 'NOUN', 'VERB', 'ADV', 'ADP', 'NOUN', 'PUNCT', 'PRON', 'ADV', 'AUX', 'VERB', 'PRON', 'PART', 'AUX', 'ADV', 'ADJ', 'PUNCT']\n['DET', 'ADJ', 'AUX', 'DET', 'ADJ', 'NOUN', 'ADP', 'NOUN', 'CCONJ', 'NOUN', 'ADP', 'DET', 'ADJ', 'ADP', 'NOUN', 'PUNCT']\n['PRON', 'AUX', 'ADV', 'VERB', 'ADP', 'PUNCT', 'SCONJ', 'NOUN', 'VERB', 'DET', 'ADJ', 'NOUN', 'ADP', 'PART', 'VERB', 'NOUN', 'PUNCT', 'SCONJ', 'DET', 'NOUN', 'ADP', 'NOUN', 'VERB', 'NOUN', 'ADP', 'NOUN', 'ADP', 'NOUN', 'PUNCT']\n['DET', 'ADJ', 'NOUN', 'CCONJ', 'NOUN', 'AUX', 'AUX', 'ADV', 'ADJ', 'PUNCT', 'SCONJ', 'PRON', 'VERB', 'PUNCT']\n['PRON', 'VERB', 'DET', 'NOUN', 'ADP', 'NOUN', 'ADP', 'NOUN', 'PUNCT']\n['PRON', 'ADP', 'PRON', 'VERB', 'PUNCT', 'CCONJ', 'ADV', 'AUX', 'ADJ', 'NOUN', 'VERB', 'DET', 'ADJ', 'NOUN', 'ADV', 'ADP', 'NOUN', 'PUNCT']\n['ADV', 'AUX', 'PRON', 'ADV', 'ADV', 'VERB', 'VERB', 'DET', 'ADJ', 'ADP', 'PRON', 'ADV', 'PUNCT']\n['CCONJ', 'DET', 'NOUN', 'AUX', 'DET', 'ADJ', 'PUNCT', 'ADJ', 'ADP', 'PROPN', 'CCONJ', 'PROPN', 'PROPN', 'PUNCT']\n['PRON', 'AUX', 'DET', 'NOUN', 'PUNCT', 'PRON', 'VERB', 'PUNCT', 'SCONJ', 'PRON', 'ADV', 'AUX', 'AUX', 'ADJ', 'NOUN', 'ADP', 'DET', 'NOUN', 'PUNCT']\n['PRON', 'AUX', 'ADV', 'AUX', 'ADJ', 'CCONJ', 'NOUN', 'ADP', 'NOUN', 'PUNCT']\n['DET', 'ADJ', 'NOUN', 'NOUN', 'AUX', 'NOUN', 'VERB', 'VERB', 'NOUN', 'ADP', 'PART', 'VERB', 'NOUN', 'PUNCT']\n['DET', 'NOUN', 'ADJ', 'NOUN', 'VERB', 'VERB', 'PUNCT', 'PRON', 'AUX', 'ADV', 'ADJ', 'PUNCT', 'ADV', 'NOUN', 'ADP', 'ADJ', 'NOUN', 'VERB', 'ADP', 'ADJ', 'NOUN', 'ADP', 'NOUN', 'CCONJ', 'NOUN', 'PUNCT']\n['ADP', 'NOUN', 'ADP', 'NOUN', 'AUX', 'PROPN', 'VERB', 'NUM', 'NOUN', 'PUNCT', 'VERB', 'ADJ', 'NOUN', 'CCONJ', 'VERB', 'ADP', 'PART', 'VERB', 'DET', 'ADJ', 'PUNCT']\n['ADJ', 'NOUN', 'VERB', 'DET', 'ADV', 'NUM', 'ADJ', 'NOUN', 'PUNCT', 'CCONJ', 'PRON', 'VERB', 'PUNCT', 'PART', 'VERB', 'PUNCT', 'SCONJ', 'PRON', 'AUX', 'VERB', 'PRON', 'VERB', 'X', 'PUNCT', 'ADP', 'NOUN', 'PUNCT', 'ADP', 'DET', 'NOUN', 'PUNCT', 'PUNCT']\n['ADP', 'DET', 'NOUN', 'VERB', 'PRON', 'PUNCT', 'PRON', 'AUX', 'ADP', 'NOUN', 'PART', 'VERB', 'DET', 'NOUN', 'ADP', 'NOUN', 'ADP', 'ADV', 'PART', 'VERB', 'NOUN', 'PUNCT', 'SCONJ', 'DET', 'NOUN', 'AUX', 'AUX', 'VERB', 'PUNCT']\n['DET', 'NUM', 'ADJ', 'NOUN', 'AUX', 'VERB', 'CCONJ', 'ADJ', 'ADP', 'PROPN', 'CCONJ', 'VERB', 'PUNCT', 'SCONJ', 'PRON', 'VERB', 'ADP', 'ADJ', 'NOUN', 'PUNCT']\n['CCONJ', 'DET', 'ADJ', 'ADP', 'DET', 'NOUN', 'VERB', 'PUNCT', 'SCONJ', 'PRON', 'AUX', 'VERB', 'CCONJ', 'VERB', 'PUNCT', 'PUNCT', 'VERB', 'PROPN', 'PROPN', 'PUNCT', 'ADP', 'ADV', 'AUX', 'ADP', 'NOUN', 'ADP', 'PART', 'VERB', 'ADJ', 'ADP', 'NOUN', 'NOUN', 'ADP', 'DET', 'ADJ', 'NOUN', 'PUNCT', 'PRON', 'AUX', 'VERB', 'ADP', 'PROPN', 'PUNCT']\n['PUNCT', 'PRON', 'VERB', 'ADV', 'ADJ', 'NOUN', 'ADP', 'PRON', 'ADP', 'NOUN', 'PUNCT']\n['ADP', 'NOUN', 'VERB', 'NOUN', 'ADP', 'ADJ', 'NOUN', 'PUNCT']\n['VERB', 'NOUN', 'AUX', 'ADV', 'ADP', 'ADJ', 'NOUN', 'VERB', 'ADP', 'DET', 'NOUN', 'PUNCT']\n['PRON', 'VERB', 'ADP', 'NOUN', 'PUNCT', 'PUNCT', 'VERB', 'PROPN', 'PROPN', 'PUNCT']\n['NOUN', 'PUNCT', 'DET', 'ADJ', 'NOUN', 'AUX', 'AUX', 'DET', 'NOUN', 'PUNCT']\n['ADV', 'VERB', 'NOUN', 'PROPN', 'CCONJ', 'NOUN', 'ADP', 'NOUN', 'VERB', 'ADV', 'CCONJ', 'ADV', 'ADP', 'DET', 'ADJ', 'ADJ', 'NOUN', 'ADP', 'DET', 'ADJ', 'PROPN', 'NOUN', 'PUNCT']\n['DET', 'ADJ', 'NOUN', 'AUX', 'ADV', 'ADV', 'VERB', 'NOUN', 'DET', 'ADJ', 'NOUN', 'ADP', 'PUNCT', 'ADV', 'PRON', 'AUX', 'VERB', 'DET', 'VERB', 'NOUN', 'ADP', 'DET', 'ADV', 'ADJ', 'NOUN', 'NOUN', 'PUNCT']\n['ADV', 'ADP', 'NOUN', 'PUNCT', 'NOUN', 'PUNCT', 'NOUN', 'PUNCT', 'NOUN', 'PUNCT', 'NOUN', 'PUNCT', 'NOUN', 'ADV', 'AUX', 'ADV', 'VERB', 'ADJ', 'NOUN', 'ADP', 'PART', 'VERB', 'DET', 'ADV', 'ADJ', 'NOUN', 'ADP', 'NOUN', 'PUNCT', 'CCONJ', 'NOUN', 'ADV', 'ADP', 'NOUN', 'NOUN', 'VERB', 'NOUN', 'ADP', 'ADJ', 'NOUN', 'PUNCT']\n['NUM', 'ADJ', 'NOUN', 'VERB']\n['DET', 'NOUN', 'AUX', 'DET', 'NOUN', 'PUNCT', 'NOUN', 'CCONJ', 'ADJ', 'NOUN', 'PUNCT']\n['PROPN', 'VERB', 'ADV', 'PUNCT']\n['NOUN', 'CCONJ', 'ADJ', 'VERB', 'VERB', 'ADP', 'NOUN', 'CCONJ', 'DET', 'ADJ', 'NOUN', 'PUNCT']\n['CCONJ', 'ADV', 'AUX', 'PRON', 'NUM', 'ADP', 'NOUN', 'PUNCT']\n['NOUN', 'AUX', 'VERB', 'ADP', 'NOUN', 'CCONJ', 'DET', 'ADJ', 'PUNCT']\n['PRON', 'VERB', 'ADV', 'PUNCT', 'PRON', 'VERB', 'PUNCT', 'PRON', 'PRON', 'VERB', 'PUNCT', 'ADV', 'PUNCT', 'PUNCT']\n['NOUN', 'VERB', 'ADP', 'NOUN', 'ADV', 'ADP', 'NOUN', 'PUNCT', 'PUNCT']\n['ADV', 'VERB', 'DET', 'NOUN', 'ADP', 'PROPN', 'PROPN', 'NOUN', 'PUNCT', 'SCONJ', 'PRON', 'AUX', 'VERB', 'ADP', 'DET', 'NOUN', 'PUNCT']\n['NOUN', 'NUM', 'AUX', 'DET', 'ADJ', 'NOUN', 'ADP', 'X', 'ADV', 'VERB', 'ADV', 'ADJ', 'NUM', 'NOUN', 'PUNCT']\n['NOUN', 'PUNCT', 'PRON', 'PRON', 'ADV', 'AUX', 'VERB', 'PUNCT', 'CCONJ', 'ADP', 'ADV', 'VERB', 'PRON', 'ADV', 'ADP', 'DET', 'NOUN', 'PUNCT', 'ADV', 'PRON', 'VERB', 'ADP', 'NOUN', 'PUNCT', 'NOUN', 'PUNCT', 'NOUN', 'PUNCT']\n['CCONJ', 'PRON', 'AUX', 'ADJ', 'PART', 'VERB', 'DET', 'NOUN', 'PUNCT', 'PUNCT', 'VERB', 'PRON', 'PUNCT']\n['ADV', 'VERB', 'PRON', 'X', 'PUNCT', 'X', 'PUNCT', 'ADP', 'NOUN', 'ADP', 'PUNCT', 'X', 'PUNCT', 'PUNCT']\n['PROPN', 'VERB', 'ADP', 'NOUN', 'PUNCT']\n['ADP', 'NOUN', 'VERB', 'PRON', 'ADP', 'NOUN', 'PUNCT', 'SCONJ', 'PRON', 'AUX', 'VERB', 'ADJ', 'NOUN', 'PUNCT']\n['ADV', 'ADV', 'ADP', 'DET', 'ADJ', 'ADJ', 'NOUN', 'PUNCT']\n['NUM', 'ADJ', 'NOUN', 'PUNCT', 'PRON', 'PUNCT', 'PRON', 'ADP', 'DET', 'NOUN', 'PUNCT', 'VERB', 'DET', 'ADJ', 'PROPN', 'PUNCT']\n['CCONJ', 'PRON', 'VERB', 'PUNCT', 'SCONJ', 'DET', 'ADJ', 'NOUN', 'NOUN', 'VERB', 'ADP', 'DET', 'ADJ', 'NOUN', 'PUNCT', 'SCONJ', 'DET', 'NOUN', 'VERB', 'NOUN', 'PUNCT']\n['ADV', 'AUX', 'NOUN', 'NOUN', 'PUNCT', 'ADP', 'NOUN', 'PUNCT', 'ADV', 'ADJ', 'ADP', 'NOUN', 'PUNCT']\n['PRON', 'AUX', 'PRON', 'VERB', 'ADV', 'VERB', 'CCONJ', 'VERB', 'NOUN', 'PUNCT', 'VERB', 'PRON', 'PUNCT']\n['VERB', 'DET', 'NOUN', 'ADP', 'NOUN', 'PUNCT', 'NOUN', 'CCONJ', 'NOUN', 'PUNCT', 'AUX', 'PRON', 'ADJ', 'PUNCT']\n['PRON', 'VERB', 'ADP', 'DET', 'ADV', 'ADJ', 'NOUN', 'ADP', 'DET', 'ADJ', 'NOUN', 'ADP', 'PROPN', 'PROPN', 'PROPN', 'PROPN', 'ADP', 'PROPN', 'PUNCT', 'DET', 'ADJ', 'NOUN', 'PROPN', 'PROPN', 'PUNCT']\n['ADV', 'ADV', 'PUNCT']\n['PROPN', 'VERB', 'ADP', 'NOUN', 'ADP', 'NOUN', 'PUNCT']\n['PROPN', 'PROPN', 'PROPN', 'PUNCT', 'PROPN', 'NUM', 'PUNCT', 'NUM', 'PROPN']\n"
    }
   ],
   "source": [
    "for element in gold:\n",
    "    print(element)"
   ]
  },
  {
   "cell_type": "code",
   "execution_count": null,
   "metadata": {},
   "outputs": [],
   "source": []
  }
 ],
 "metadata": {
  "kernelspec": {
   "display_name": "Python 3",
   "language": "python",
   "name": "python3"
  },
  "language_info": {
   "codemirror_mode": {
    "name": "ipython",
    "version": 3
   },
   "file_extension": ".py",
   "mimetype": "text/x-python",
   "name": "python",
   "nbconvert_exporter": "python",
   "pygments_lexer": "ipython3",
   "version": "3.6.9-final"
  }
 },
 "nbformat": 4,
 "nbformat_minor": 2
}